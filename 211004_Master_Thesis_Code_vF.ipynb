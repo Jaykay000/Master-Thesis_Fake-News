{
  "nbformat": 4,
  "nbformat_minor": 0,
  "metadata": {
    "colab": {
      "name": "211004_Master_Thesis_Code_vF.ipynb",
      "provenance": [],
      "collapsed_sections": [
        "Ve468_BEKet9",
        "qyXSmhJ47n83",
        "Fn7eGNESRSjI",
        "2rOcEM6sX8Xw",
        "0DSTE59tMzvm",
        "Ferf8OgHY4uj",
        "Vegj1oHnnt7_"
      ],
      "machine_shape": "hm",
      "include_colab_link": true
    },
    "kernelspec": {
      "display_name": "Python 3",
      "name": "python3"
    },
    "language_info": {
      "name": "python"
    },
    "accelerator": "GPU"
  },
  "cells": [
    {
      "cell_type": "markdown",
      "metadata": {
        "id": "view-in-github",
        "colab_type": "text"
      },
      "source": [
        "<a href=\"https://colab.research.google.com/github/Jaykay000/Master-Thesis_Fake-News/blob/main/211004_Master_Thesis_Code_vF.ipynb\" target=\"_parent\"><img src=\"https://colab.research.google.com/assets/colab-badge.svg\" alt=\"Open In Colab\"/></a>"
      ]
    },
    {
      "cell_type": "code",
      "metadata": {
        "colab": {
          "base_uri": "https://localhost:8080/"
        },
        "id": "8kRZLFLxKap9",
        "outputId": "d721bded-f4bf-4cd0-8e24-0c4ab81e9d79"
      },
      "source": [
        "from google.colab import drive\n",
        "drive.mount('/content/gdrive')"
      ],
      "execution_count": null,
      "outputs": [
        {
          "output_type": "stream",
          "name": "stdout",
          "text": [
            "Mounted at /content/gdrive\n"
          ]
        }
      ]
    },
    {
      "cell_type": "markdown",
      "metadata": {
        "id": "Ve468_BEKet9"
      },
      "source": [
        "# Initial code to start\n",
        "\n",
        "- Check if GPU is activated in Colab\n",
        "- Install necessary libraries and packages"
      ]
    },
    {
      "cell_type": "code",
      "metadata": {
        "colab": {
          "base_uri": "https://localhost:8080/"
        },
        "id": "BuxFTRWunC6W",
        "outputId": "ede03642-adc4-49f3-b92f-ddca9a3d305c"
      },
      "source": [
        "gpu_info = !nvidia-smi\n",
        "gpu_info = '\\n'.join(gpu_info)\n",
        "if gpu_info.find('failed') >= 0:\n",
        "  print('Not connected to a GPU')\n",
        "else:\n",
        "  print(gpu_info)"
      ],
      "execution_count": null,
      "outputs": [
        {
          "output_type": "stream",
          "name": "stdout",
          "text": [
            "Tue Oct  5 11:52:58 2021       \n",
            "+-----------------------------------------------------------------------------+\n",
            "| NVIDIA-SMI 470.74       Driver Version: 460.32.03    CUDA Version: 11.2     |\n",
            "|-------------------------------+----------------------+----------------------+\n",
            "| GPU  Name        Persistence-M| Bus-Id        Disp.A | Volatile Uncorr. ECC |\n",
            "| Fan  Temp  Perf  Pwr:Usage/Cap|         Memory-Usage | GPU-Util  Compute M. |\n",
            "|                               |                      |               MIG M. |\n",
            "|===============================+======================+======================|\n",
            "|   0  Tesla P100-PCIE...  Off  | 00000000:00:04.0 Off |                    0 |\n",
            "| N/A   41C    P0    26W / 250W |      0MiB / 16280MiB |      0%      Default |\n",
            "|                               |                      |                  N/A |\n",
            "+-------------------------------+----------------------+----------------------+\n",
            "                                                                               \n",
            "+-----------------------------------------------------------------------------+\n",
            "| Processes:                                                                  |\n",
            "|  GPU   GI   CI        PID   Type   Process name                  GPU Memory |\n",
            "|        ID   ID                                                   Usage      |\n",
            "|=============================================================================|\n",
            "|  No running processes found                                                 |\n",
            "+-----------------------------------------------------------------------------+\n"
          ]
        }
      ]
    },
    {
      "cell_type": "code",
      "metadata": {
        "colab": {
          "base_uri": "https://localhost:8080/"
        },
        "id": "oPTHRGo8z6TF",
        "outputId": "02bd8f39-d76f-4d50-c050-0d72ba61e663"
      },
      "source": [
        "!pip install python-igraph"
      ],
      "execution_count": null,
      "outputs": [
        {
          "output_type": "stream",
          "name": "stdout",
          "text": [
            "Collecting python-igraph\n",
            "  Downloading python_igraph-0.9.6-cp37-cp37m-manylinux2010_x86_64.whl (3.2 MB)\n",
            "\u001b[K     |████████████████████████████████| 3.2 MB 5.0 MB/s \n",
            "\u001b[?25hCollecting texttable>=1.6.2\n",
            "  Downloading texttable-1.6.4-py2.py3-none-any.whl (10 kB)\n",
            "Installing collected packages: texttable, python-igraph\n",
            "Successfully installed python-igraph-0.9.6 texttable-1.6.4\n"
          ]
        }
      ]
    },
    {
      "cell_type": "code",
      "metadata": {
        "colab": {
          "base_uri": "https://localhost:8080/"
        },
        "id": "RXF33313urpy",
        "outputId": "a689896a-3141-42b4-cc81-b7c7b91743c2"
      },
      "source": [
        "###https://journals.plos.org/plosone/article?id=10.1371/journal.pone.0085777#s6\n",
        "!pip install powerlaw"
      ],
      "execution_count": null,
      "outputs": [
        {
          "output_type": "stream",
          "name": "stdout",
          "text": [
            "Collecting powerlaw\n",
            "  Downloading powerlaw-1.5-py3-none-any.whl (24 kB)\n",
            "Requirement already satisfied: scipy in /usr/local/lib/python3.7/dist-packages (from powerlaw) (1.4.1)\n",
            "Requirement already satisfied: matplotlib in /usr/local/lib/python3.7/dist-packages (from powerlaw) (3.2.2)\n",
            "Requirement already satisfied: numpy in /usr/local/lib/python3.7/dist-packages (from powerlaw) (1.19.5)\n",
            "Requirement already satisfied: mpmath in /usr/local/lib/python3.7/dist-packages (from powerlaw) (1.2.1)\n",
            "Requirement already satisfied: pyparsing!=2.0.4,!=2.1.2,!=2.1.6,>=2.0.1 in /usr/local/lib/python3.7/dist-packages (from matplotlib->powerlaw) (2.4.7)\n",
            "Requirement already satisfied: cycler>=0.10 in /usr/local/lib/python3.7/dist-packages (from matplotlib->powerlaw) (0.10.0)\n",
            "Requirement already satisfied: python-dateutil>=2.1 in /usr/local/lib/python3.7/dist-packages (from matplotlib->powerlaw) (2.8.2)\n",
            "Requirement already satisfied: kiwisolver>=1.0.1 in /usr/local/lib/python3.7/dist-packages (from matplotlib->powerlaw) (1.3.2)\n",
            "Requirement already satisfied: six in /usr/local/lib/python3.7/dist-packages (from cycler>=0.10->matplotlib->powerlaw) (1.15.0)\n",
            "Installing collected packages: powerlaw\n",
            "Successfully installed powerlaw-1.5\n"
          ]
        }
      ]
    },
    {
      "cell_type": "code",
      "metadata": {
        "colab": {
          "base_uri": "https://localhost:8080/"
        },
        "id": "K1hRhib2z1K9",
        "outputId": "de7e098a-43c0-4708-982e-237b67cef885"
      },
      "source": [
        "import pandas as pd\n",
        "import igraph\n",
        "import glob\n",
        "import matplotlib.pyplot as plt\n",
        "import numpy as np\n",
        "import igraph.remote.gephi as igg\n",
        "import networkx as nx\n",
        "import datetime as dt\n",
        "print(igraph.__version__)\n",
        "\n",
        "import powerlaw\n",
        "import math\n",
        "import warnings\n",
        "warnings.filterwarnings('ignore')"
      ],
      "execution_count": null,
      "outputs": [
        {
          "output_type": "stream",
          "name": "stdout",
          "text": [
            "0.9.6\n"
          ]
        }
      ]
    },
    {
      "cell_type": "markdown",
      "metadata": {
        "id": "qyXSmhJ47n83"
      },
      "source": [
        "# Data Import and Data frame Building\n",
        "\n",
        "- Import tweets, retweets and user data from the original Cornell files\n",
        "- Merge all data into one data frame\n",
        "- Reduce the data to only one week (49)\n",
        "- Reduce the data to data points to include only community 2 AND community 0\n",
        "- Save the merged and pruned data frame onto a file that can be directly imported from google drive"
      ]
    },
    {
      "cell_type": "code",
      "metadata": {
        "colab": {
          "base_uri": "https://localhost:8080/"
        },
        "id": "23ouey-Rbzzl",
        "outputId": "1fe172a7-be3c-4032-a341-fdbc00472ce2"
      },
      "source": [
        "#make sure, that the path name corresponds to the drive name (sometimes gdrive, sometimes drive)\n",
        "base_path_users = 'gdrive/MyDrive/Privat/Master Thesis Data/users/users-'\n",
        "\n",
        "user_df = pd.read_csv('gdrive/MyDrive/Privat/Master Thesis Data/users/users-0.csv')\n",
        "print(user_df.shape)\n",
        "for i in range(1, 6): \n",
        " user_df = pd.concat([user_df, pd.read_csv(base_path_users + str(i) + '.csv')])\n",
        " print(user_df.shape)"
      ],
      "execution_count": null,
      "outputs": [
        {
          "output_type": "stream",
          "name": "stdout",
          "text": [
            "(500000, 24)\n",
            "(1000000, 24)\n",
            "(1500000, 24)\n",
            "(2000000, 24)\n",
            "(2500000, 24)\n",
            "(2559018, 24)\n"
          ]
        }
      ]
    },
    {
      "cell_type": "code",
      "metadata": {
        "id": "2_fn_6lrb40Z"
      },
      "source": [
        "user_df.user_community.value_counts().plot(kind='bar')"
      ],
      "execution_count": null,
      "outputs": []
    },
    {
      "cell_type": "code",
      "metadata": {
        "colab": {
          "base_uri": "https://localhost:8080/"
        },
        "id": "FFYtgqkEhqCY",
        "outputId": "7a627781-8721-4116-fe32-886d88ee3867"
      },
      "source": [
        "#import retweets from csv's\n",
        "# use glob to get all the csv files in the folder\n",
        "base_path_retweets = 'gdrive/MyDrive/Privat/Master Thesis Data/retweets'\n",
        "\n",
        "retweet_df = pd.DataFrame()\n",
        "for r in glob.glob(base_path_retweets + \"/*.csv\"):\n",
        "  retweet_df = pd.concat([retweet_df, pd.read_csv(r, header=0, dtype={'retweeted_id': str, 'user_id': str, 'timestamp': str})])\n",
        "  # find documentation to read the csv columns as strings\n",
        "  print(retweet_df.shape)"
      ],
      "execution_count": null,
      "outputs": [
        {
          "output_type": "stream",
          "name": "stdout",
          "text": [
            "(644312, 3)\n",
            "(1292353, 3)\n",
            "(1906790, 3)\n",
            "(2581844, 3)\n",
            "(3161699, 3)\n",
            "(3655224, 3)\n",
            "(4112531, 3)\n",
            "(4718597, 3)\n",
            "(5152506, 3)\n",
            "(5747133, 3)\n",
            "(6123503, 3)\n",
            "(6596642, 3)\n",
            "(7208195, 3)\n",
            "(7646360, 3)\n",
            "(7850187, 3)\n",
            "(8313316, 3)\n",
            "(8318809, 3)\n",
            "(8325229, 3)\n",
            "(8366850, 3)\n",
            "(8437110, 3)\n",
            "(8517926, 3)\n",
            "(8585732, 3)\n",
            "(8656498, 3)\n",
            "(8806361, 3)\n",
            "(9013493, 3)\n",
            "(9093549, 3)\n",
            "(9222645, 3)\n",
            "(9478466, 3)\n",
            "(9930861, 3)\n",
            "(10403610, 3)\n",
            "(10947221, 3)\n",
            "(11503862, 3)\n",
            "(12050487, 3)\n",
            "(12646254, 3)\n",
            "(13243644, 3)\n",
            "(13844708, 3)\n",
            "(14468441, 3)\n",
            "(15083205, 3)\n",
            "(15604351, 3)\n",
            "(16237583, 3)\n",
            "(16846382, 3)\n",
            "(17497914, 3)\n",
            "(18113998, 3)\n",
            "(18663214, 3)\n",
            "(19303937, 3)\n",
            "(19979182, 3)\n",
            "(20552839, 3)\n",
            "(21137477, 3)\n",
            "(21733368, 3)\n",
            "(22332827, 3)\n",
            "(22991728, 3)\n",
            "(23645365, 3)\n",
            "(24291007, 3)\n",
            "(24898063, 3)\n",
            "(25566698, 3)\n"
          ]
        }
      ]
    },
    {
      "cell_type": "code",
      "metadata": {
        "colab": {
          "base_uri": "https://localhost:8080/"
        },
        "id": "1NomFRlo9IDv",
        "outputId": "5d6244ca-b940-4ef6-aabc-793961f9be57"
      },
      "source": [
        "#import tweets from csv's\n",
        "# use glob to get all the csv files in the folder\n",
        "base_path_tweets = 'gdrive/MyDrive/Privat/Master Thesis Data/tweets'\n",
        "\n",
        "tweet_df = pd.DataFrame()\n",
        "for t in glob.glob(base_path_tweets + \"/*.csv\"):\n",
        "  tweet_df = pd.concat([tweet_df, pd.read_csv(t, header=0, dtype={'tweet_id': str, 'user_id': str, 'timestamp': str, 'user_community': str})])\n",
        "  print(tweet_df.shape)"
      ],
      "execution_count": null,
      "outputs": [
        {
          "output_type": "stream",
          "name": "stdout",
          "text": [
            "(52585, 25)\n",
            "(158924, 25)\n",
            "(278138, 25)\n",
            "(401414, 25)\n",
            "(527924, 25)\n",
            "(658420, 25)\n",
            "(792450, 25)\n",
            "(928156, 25)\n",
            "(1081569, 25)\n",
            "(1241463, 25)\n",
            "(1419051, 25)\n",
            "(1606551, 25)\n",
            "(1799911, 25)\n",
            "(1995190, 25)\n",
            "(2164535, 25)\n",
            "(2326439, 25)\n",
            "(2371792, 25)\n",
            "(2510675, 25)\n",
            "(2595198, 25)\n",
            "(2626940, 25)\n",
            "(2773110, 25)\n",
            "(2918303, 25)\n",
            "(3065791, 25)\n",
            "(3216066, 25)\n",
            "(3367461, 25)\n",
            "(3523729, 25)\n",
            "(3677685, 25)\n",
            "(3836175, 25)\n",
            "(3994877, 25)\n",
            "(4161615, 25)\n",
            "(4321703, 25)\n",
            "(4505942, 25)\n",
            "(4674580, 25)\n",
            "(4867459, 25)\n",
            "(5056027, 25)\n",
            "(5252065, 25)\n",
            "(5453196, 25)\n",
            "(5659922, 25)\n",
            "(5870431, 25)\n",
            "(6077542, 25)\n",
            "(6289399, 25)\n",
            "(6503696, 25)\n",
            "(6715624, 25)\n",
            "(6942387, 25)\n",
            "(7157690, 25)\n",
            "(7393609, 25)\n"
          ]
        }
      ]
    },
    {
      "cell_type": "code",
      "metadata": {
        "id": "_Ae7fMUDpMCn"
      },
      "source": [
        "#merge the retweet_df with the tweet_df\n",
        "tweet_retweet_merge = pd.merge(retweet_df,tweet_df, how='inner', left_on='retweeted_id', right_on='tweet_id')\n",
        "\n",
        "#drop all columns that are not necessary for the initial test\n",
        "test_retweet_tweet_merge_df = tweet_retweet_merge[['user_id_y','user_id_x', 'retweeted_id', 'timestamp_x', 'user_community', 'user_active_status']]\n",
        "test_retweet_tweet_merge_df = test_retweet_tweet_merge_df.rename(columns={'user_id_x': 'user_id_source', 'user_id_y': 'user_id_target', 'user_community': 'user_community_target', 'user_active_status': 'user_active_status_target'})\n",
        "\n",
        "user_df['user_id'] = user_df['user_id'].apply(str)\n",
        "\n",
        "#delete former data frames to decrease RAM usage\n",
        "del tweet_retweet_merge"
      ],
      "execution_count": null,
      "outputs": []
    },
    {
      "cell_type": "code",
      "metadata": {
        "id": "-48Q43d_IrZ8"
      },
      "source": [
        "test_retweet_tweet_merge_df = pd.merge(test_retweet_tweet_merge_df, user_df, left_on='user_id_source',right_on='user_id', how='inner')\n",
        "#test_retweet_tweet_merge_df"
      ],
      "execution_count": null,
      "outputs": []
    },
    {
      "cell_type": "code",
      "metadata": {
        "colab": {
          "base_uri": "https://localhost:8080/",
          "height": 117
        },
        "id": "qWQ1l7JyKotR",
        "outputId": "6e1f9578-a247-457d-faf5-8bd1a57a24d3"
      },
      "source": [
        "test_retweet_tweet_merge_df.head(1)"
      ],
      "execution_count": null,
      "outputs": [
        {
          "data": {
            "text/html": [
              "<div>\n",
              "<style scoped>\n",
              "    .dataframe tbody tr th:only-of-type {\n",
              "        vertical-align: middle;\n",
              "    }\n",
              "\n",
              "    .dataframe tbody tr th {\n",
              "        vertical-align: top;\n",
              "    }\n",
              "\n",
              "    .dataframe thead th {\n",
              "        text-align: right;\n",
              "    }\n",
              "</style>\n",
              "<table border=\"1\" class=\"dataframe\">\n",
              "  <thead>\n",
              "    <tr style=\"text-align: right;\">\n",
              "      <th></th>\n",
              "      <th>user_id_target</th>\n",
              "      <th>user_id_source</th>\n",
              "      <th>retweeted_id</th>\n",
              "      <th>timestamp_x</th>\n",
              "      <th>user_community_target</th>\n",
              "      <th>user_active_status_target</th>\n",
              "      <th>user_id</th>\n",
              "      <th>user_community</th>\n",
              "      <th>user_active_status</th>\n",
              "      <th>closeness_centrality_detractor_cluster</th>\n",
              "      <th>closeness_centrality_promoter_cluster</th>\n",
              "      <th>retweet_count_by_community_0</th>\n",
              "      <th>quote_count_by_community_0</th>\n",
              "      <th>retweet_count_by_community_1</th>\n",
              "      <th>quote_count_by_community_1</th>\n",
              "      <th>retweet_count_by_community_2</th>\n",
              "      <th>quote_count_by_community_2</th>\n",
              "      <th>retweet_count_by_community_3</th>\n",
              "      <th>quote_count_by_community_3</th>\n",
              "      <th>retweet_count_by_community_4</th>\n",
              "      <th>quote_count_by_community_4</th>\n",
              "      <th>retweet_count_by_suspended_users</th>\n",
              "      <th>quote_count_by_suspended_users</th>\n",
              "      <th>name</th>\n",
              "      <th>handle</th>\n",
              "      <th>created_at</th>\n",
              "      <th>verified</th>\n",
              "      <th>description</th>\n",
              "      <th>followers_count</th>\n",
              "      <th>location</th>\n",
              "    </tr>\n",
              "  </thead>\n",
              "  <tbody>\n",
              "    <tr>\n",
              "      <th>0</th>\n",
              "      <td>4041824789</td>\n",
              "      <td>39323169</td>\n",
              "      <td>1333463037601169408</td>\n",
              "      <td>2020-12-01T02:23:13Z</td>\n",
              "      <td>1</td>\n",
              "      <td>active</td>\n",
              "      <td>39323169</td>\n",
              "      <td>1.0</td>\n",
              "      <td>deleted</td>\n",
              "      <td>NaN</td>\n",
              "      <td>NaN</td>\n",
              "      <td>0</td>\n",
              "      <td>0</td>\n",
              "      <td>0</td>\n",
              "      <td>0</td>\n",
              "      <td>0</td>\n",
              "      <td>0</td>\n",
              "      <td>0</td>\n",
              "      <td>0</td>\n",
              "      <td>0</td>\n",
              "      <td>0</td>\n",
              "      <td>0</td>\n",
              "      <td>0</td>\n",
              "      <td>NaN</td>\n",
              "      <td>NaN</td>\n",
              "      <td>NaN</td>\n",
              "      <td>NaN</td>\n",
              "      <td>NaN</td>\n",
              "      <td>NaN</td>\n",
              "      <td>NaN</td>\n",
              "    </tr>\n",
              "  </tbody>\n",
              "</table>\n",
              "</div>"
            ],
            "text/plain": [
              "  user_id_target user_id_source  ... followers_count location\n",
              "0     4041824789       39323169  ...             NaN      NaN\n",
              "\n",
              "[1 rows x 30 columns]"
            ]
          },
          "execution_count": 9,
          "metadata": {},
          "output_type": "execute_result"
        }
      ]
    },
    {
      "cell_type": "code",
      "metadata": {
        "id": "THpFWQrcfC8g"
      },
      "source": [
        "#test_retweet_tweet_merge_df = pd.merge(test_retweet_tweet_merge_df, user_df, left_on='user_id_source',right_on='user_id', how='inner')\n",
        "test_retweet_tweet_merge_df = test_retweet_tweet_merge_df.rename(columns={'user_community': 'user_community_source', 'user_active_status': 'user_active_status_source'})\n",
        "\n",
        "test_retweet_tweet_merge_df['user_community_target'].fillna('-6', inplace=True)\n",
        "test_retweet_tweet_merge_df['user_community_source'].fillna('-6', inplace=True)\n",
        "\n",
        "test_retweet_tweet_merge_df['user_community_target'] = test_retweet_tweet_merge_df['user_community_target'].apply(float).apply(int).apply(str)\n",
        "test_retweet_tweet_merge_df['user_community_source'] = test_retweet_tweet_merge_df['user_community_source'].apply(float).apply(int).apply(str)\n",
        "\n",
        "\n",
        "display(test_retweet_tweet_merge_df.tail(50))"
      ],
      "execution_count": null,
      "outputs": []
    },
    {
      "cell_type": "code",
      "metadata": {
        "colab": {
          "base_uri": "https://localhost:8080/",
          "height": 51
        },
        "id": "-jVMUqt3YTX_",
        "outputId": "36e5b89c-2278-457b-b1f1-59e7aae366aa"
      },
      "source": [
        "display(np.unique(test_retweet_tweet_merge_df['user_community_target'],return_counts = True))"
      ],
      "execution_count": null,
      "outputs": [
        {
          "data": {
            "text/plain": [
              "(array(['-6', '0', '1', '2', '3', '4'], dtype=object),\n",
              " array([ 172966,  958944, 5514784, 1588130,   50251,   16168]))"
            ]
          },
          "metadata": {},
          "output_type": "display_data"
        }
      ]
    },
    {
      "cell_type": "code",
      "metadata": {
        "colab": {
          "base_uri": "https://localhost:8080/",
          "height": 293
        },
        "id": "RaquyvbxYsnC",
        "outputId": "a158f0b9-f366-4b49-a744-f27c01ef5109"
      },
      "source": [
        "test_retweet_tweet_merge_df.user_community_target.value_counts().plot(kind='bar')"
      ],
      "execution_count": null,
      "outputs": [
        {
          "data": {
            "text/plain": [
              "<matplotlib.axes._subplots.AxesSubplot at 0x7fe501ff9390>"
            ]
          },
          "execution_count": 16,
          "metadata": {},
          "output_type": "execute_result"
        },
        {
          "data": {
            "image/png": "[encoded data removed]",
            "text/plain": [
              "<Figure size 432x288 with 1 Axes>"
            ]
          },
          "metadata": {},
          "output_type": "display_data"
        }
      ]
    },
    {
      "cell_type": "code",
      "metadata": {
        "colab": {
          "base_uri": "https://localhost:8080/"
        },
        "id": "QcF0ViJ6XEAn",
        "outputId": "f9e9b232-c9f4-4bc0-ab5d-5b3d1af7b2b9"
      },
      "source": [
        "#select the required communities from the orignal data set\n",
        "select_commun = ['0', '2']\n",
        "\n",
        "#drop all users that are not of the community 2.0 OR community 0.0\n",
        "test_retweet_tweet_merge_df = test_retweet_tweet_merge_df.loc[(test_retweet_tweet_merge_df['user_community_target'].isin(select_commun))]\n",
        "\n",
        "#select only retweets from week 49 to reduce the number of rows for testing\n",
        "test_retweet_tweet_merge_df['timestamp_week'] = pd.to_datetime(test_retweet_tweet_merge_df['timestamp_x']).dt.week\n",
        "test_retweet_tweet_merge_df_final = test_retweet_tweet_merge_df[test_retweet_tweet_merge_df['timestamp_week'] == 49]\n",
        "\n",
        "#repeat column user_id_x as 'Source' and user_id_y as 'Target' for the gephi edge export\n",
        "test_retweet_tweet_merge_df_final['Source'] = test_retweet_tweet_merge_df_final['user_id_source']\n",
        "test_retweet_tweet_merge_df_final['Target'] = test_retweet_tweet_merge_df_final['user_id_target']\n",
        "test_retweet_tweet_merge_df_final = test_retweet_tweet_merge_df_final[['user_id_source','user_id_target', 'Source', 'Target', 'retweeted_id', 'timestamp_x', 'user_community_target', 'user_active_status_target']]"
      ],
      "execution_count": null,
      "outputs": [
        {
          "name": "stderr",
          "output_type": "stream",
          "text": [
            "/usr/local/lib/python3.7/dist-packages/ipykernel_launcher.py:8: FutureWarning: Series.dt.weekofyear and Series.dt.week have been deprecated.  Please use Series.dt.isocalendar().week instead.\n",
            "  \n",
            "/usr/local/lib/python3.7/dist-packages/ipykernel_launcher.py:12: SettingWithCopyWarning: \n",
            "A value is trying to be set on a copy of a slice from a DataFrame.\n",
            "Try using .loc[row_indexer,col_indexer] = value instead\n",
            "\n",
            "See the caveats in the documentation: https://pandas.pydata.org/pandas-docs/stable/user_guide/indexing.html#returning-a-view-versus-a-copy\n",
            "  if sys.path[0] == '':\n",
            "/usr/local/lib/python3.7/dist-packages/ipykernel_launcher.py:13: SettingWithCopyWarning: \n",
            "A value is trying to be set on a copy of a slice from a DataFrame.\n",
            "Try using .loc[row_indexer,col_indexer] = value instead\n",
            "\n",
            "See the caveats in the documentation: https://pandas.pydata.org/pandas-docs/stable/user_guide/indexing.html#returning-a-view-versus-a-copy\n",
            "  del sys.path[0]\n"
          ]
        }
      ]
    },
    {
      "cell_type": "code",
      "metadata": {
        "id": "gvFGeIOyAT_S"
      },
      "source": [
        "#delete former data frames to reduce RAM usage\n",
        "del test_retweet_tweet_merge_df"
      ],
      "execution_count": null,
      "outputs": []
    },
    {
      "cell_type": "code",
      "metadata": {
        "id": "lWZpQCRCbrZ2"
      },
      "source": [
        "#save the df as a csv to allow easier read_csv in the next steps\n",
        "test_retweet_tweet_merge_df_final.to_csv(r'gdrive/MyDrive/Privat/Master Thesis Data/final_merged_data_49.csv', index = False)"
      ],
      "execution_count": null,
      "outputs": []
    },
    {
      "cell_type": "markdown",
      "metadata": {
        "id": "Fn7eGNESRSjI"
      },
      "source": [
        "# Initialize Graph\n",
        "\n",
        "- Import the merged csv of all retweets from cw49\n",
        "- create the igraph graph\n",
        "- calculate basic statistic information and the properties of the graph\n",
        "- Exercise the pruning strategy to reduce the complexity of the graph\n"
      ]
    },
    {
      "cell_type": "code",
      "metadata": {
        "colab": {
          "base_uri": "https://localhost:8080/",
          "height": 411
        },
        "id": "_t_mAXTqo0u_",
        "outputId": "955e0f0f-183c-4a4a-837d-242acce6f2fa"
      },
      "source": [
        "test_retweet_tweet_merge_df_final = pd.read_csv('gdrive/MyDrive/Privat/Master Thesis Data/final_merged_data_49.csv', dtype={'user_id_x': str, 'user_id_y': str, 'Source': str, 'Target': str, 'retweeted_id': str, 'timestamp': str, 'user_community': str, 'user_community': str, 'timestamp_week':str})\n",
        "\n",
        "display(test_retweet_tweet_merge_df_final)"
      ],
      "execution_count": null,
      "outputs": [
        {
          "output_type": "display_data",
          "data": {
            "text/html": [
              "<div>\n",
              "<style scoped>\n",
              "    .dataframe tbody tr th:only-of-type {\n",
              "        vertical-align: middle;\n",
              "    }\n",
              "\n",
              "    .dataframe tbody tr th {\n",
              "        vertical-align: top;\n",
              "    }\n",
              "\n",
              "    .dataframe thead th {\n",
              "        text-align: right;\n",
              "    }\n",
              "</style>\n",
              "<table border=\"1\" class=\"dataframe\">\n",
              "  <thead>\n",
              "    <tr style=\"text-align: right;\">\n",
              "      <th></th>\n",
              "      <th>user_id_source</th>\n",
              "      <th>user_id_target</th>\n",
              "      <th>Source</th>\n",
              "      <th>Target</th>\n",
              "      <th>retweeted_id</th>\n",
              "      <th>timestamp_x</th>\n",
              "      <th>user_community_target</th>\n",
              "      <th>user_active_status_target</th>\n",
              "    </tr>\n",
              "  </thead>\n",
              "  <tbody>\n",
              "    <tr>\n",
              "      <th>0</th>\n",
              "      <td>394392730</td>\n",
              "      <td>4710708974</td>\n",
              "      <td>394392730</td>\n",
              "      <td>4710708974</td>\n",
              "      <td>1333567344832987139</td>\n",
              "      <td>2020-12-01T01:12:56Z</td>\n",
              "      <td>2</td>\n",
              "      <td>active</td>\n",
              "    </tr>\n",
              "    <tr>\n",
              "      <th>1</th>\n",
              "      <td>394392730</td>\n",
              "      <td>2618797484</td>\n",
              "      <td>394392730</td>\n",
              "      <td>2618797484</td>\n",
              "      <td>1333576971565993985</td>\n",
              "      <td>2020-12-01T01:03:27Z</td>\n",
              "      <td>2</td>\n",
              "      <td>active</td>\n",
              "    </tr>\n",
              "    <tr>\n",
              "      <th>2</th>\n",
              "      <td>394392730</td>\n",
              "      <td>116384038</td>\n",
              "      <td>394392730</td>\n",
              "      <td>116384038</td>\n",
              "      <td>1333618398740287489</td>\n",
              "      <td>2020-12-01T04:04:42Z</td>\n",
              "      <td>2</td>\n",
              "      <td>active</td>\n",
              "    </tr>\n",
              "    <tr>\n",
              "      <th>3</th>\n",
              "      <td>394392730</td>\n",
              "      <td>814945374209064960</td>\n",
              "      <td>394392730</td>\n",
              "      <td>814945374209064960</td>\n",
              "      <td>1333920785879101440</td>\n",
              "      <td>2020-12-01T23:59:36Z</td>\n",
              "      <td>2</td>\n",
              "      <td>active</td>\n",
              "    </tr>\n",
              "    <tr>\n",
              "      <th>4</th>\n",
              "      <td>394392730</td>\n",
              "      <td>1153305068201885699</td>\n",
              "      <td>394392730</td>\n",
              "      <td>1153305068201885699</td>\n",
              "      <td>1334186430851997696</td>\n",
              "      <td>2020-12-04T07:57:16Z</td>\n",
              "      <td>2</td>\n",
              "      <td>active</td>\n",
              "    </tr>\n",
              "    <tr>\n",
              "      <th>...</th>\n",
              "      <td>...</td>\n",
              "      <td>...</td>\n",
              "      <td>...</td>\n",
              "      <td>...</td>\n",
              "      <td>...</td>\n",
              "      <td>...</td>\n",
              "      <td>...</td>\n",
              "      <td>...</td>\n",
              "    </tr>\n",
              "    <tr>\n",
              "      <th>1143855</th>\n",
              "      <td>913805842360799235</td>\n",
              "      <td>1020470638203613184</td>\n",
              "      <td>913805842360799235</td>\n",
              "      <td>1020470638203613184</td>\n",
              "      <td>1334627458910461959</td>\n",
              "      <td>2020-12-06T04:05:26Z</td>\n",
              "      <td>0</td>\n",
              "      <td>active</td>\n",
              "    </tr>\n",
              "    <tr>\n",
              "      <th>1143856</th>\n",
              "      <td>919665395048607746</td>\n",
              "      <td>1191527793177300992</td>\n",
              "      <td>919665395048607746</td>\n",
              "      <td>1191527793177300992</td>\n",
              "      <td>1335678886449909760</td>\n",
              "      <td>2020-12-06T20:16:11Z</td>\n",
              "      <td>0</td>\n",
              "      <td>active</td>\n",
              "    </tr>\n",
              "    <tr>\n",
              "      <th>1143857</th>\n",
              "      <td>920353297835483141</td>\n",
              "      <td>1108138788621086720</td>\n",
              "      <td>920353297835483141</td>\n",
              "      <td>1108138788621086720</td>\n",
              "      <td>1335536050438107144</td>\n",
              "      <td>2020-12-06T10:55:37Z</td>\n",
              "      <td>2</td>\n",
              "      <td>active</td>\n",
              "    </tr>\n",
              "    <tr>\n",
              "      <th>1143858</th>\n",
              "      <td>922403875</td>\n",
              "      <td>28407251</td>\n",
              "      <td>922403875</td>\n",
              "      <td>28407251</td>\n",
              "      <td>1335395799610650626</td>\n",
              "      <td>2020-12-06T01:54:26Z</td>\n",
              "      <td>2</td>\n",
              "      <td>active</td>\n",
              "    </tr>\n",
              "    <tr>\n",
              "      <th>1143859</th>\n",
              "      <td>922602722</td>\n",
              "      <td>133541474</td>\n",
              "      <td>922602722</td>\n",
              "      <td>133541474</td>\n",
              "      <td>1335386662344462339</td>\n",
              "      <td>2020-12-06T01:27:35Z</td>\n",
              "      <td>0</td>\n",
              "      <td>active</td>\n",
              "    </tr>\n",
              "  </tbody>\n",
              "</table>\n",
              "<p>1143860 rows × 8 columns</p>\n",
              "</div>"
            ],
            "text/plain": [
              "             user_id_source  ...  user_active_status_target\n",
              "0                 394392730  ...                     active\n",
              "1                 394392730  ...                     active\n",
              "2                 394392730  ...                     active\n",
              "3                 394392730  ...                     active\n",
              "4                 394392730  ...                     active\n",
              "...                     ...  ...                        ...\n",
              "1143855  913805842360799235  ...                     active\n",
              "1143856  919665395048607746  ...                     active\n",
              "1143857  920353297835483141  ...                     active\n",
              "1143858           922403875  ...                     active\n",
              "1143859           922602722  ...                     active\n",
              "\n",
              "[1143860 rows x 8 columns]"
            ]
          },
          "metadata": {}
        }
      ]
    },
    {
      "cell_type": "code",
      "metadata": {
        "id": "lzMhdN0si3Ig"
      },
      "source": [
        "g = igraph.Graph.DataFrame(test_retweet_tweet_merge_df_final, directed=True)\n",
        "g.vs['user_community'] = test_retweet_tweet_merge_df_final['user_community_target']"
      ],
      "execution_count": null,
      "outputs": []
    },
    {
      "cell_type": "code",
      "metadata": {
        "colab": {
          "base_uri": "https://localhost:8080/"
        },
        "id": "OqS8Ugbj20J_",
        "outputId": "a12497b4-170a-42ef-e889-5e10bc63687b"
      },
      "source": [
        "#basic statistic examination\n",
        "print(\"Number of vertices:\", g.vcount())\n",
        "print(\"Number of edges:\", g.ecount())\n",
        "print(\"Density of the graph:\", 2*g.ecount()/(g.vcount()*(g.vcount()-1)))"
      ],
      "execution_count": null,
      "outputs": [
        {
          "output_type": "stream",
          "name": "stdout",
          "text": [
            "Number of vertices: 303896\n",
            "Number of edges: 1143860\n",
            "Density of the graph: 2.477161550875306e-05\n"
          ]
        }
      ]
    },
    {
      "cell_type": "code",
      "metadata": {
        "colab": {
          "base_uri": "https://localhost:8080/"
        },
        "id": "7flBklDr5Cjt",
        "outputId": "7e875d13-0071-4337-a6c1-c42ccfcf8778"
      },
      "source": [
        "degrees = []\n",
        "total = 0\n",
        "n_vertices = g.vcount()\n",
        "\n",
        "for n in range(n_vertices):\n",
        "    neighbours = g.neighbors(n, mode='ALL')\n",
        "    total += len(neighbours)\n",
        "    degrees.append(len(neighbours))\n",
        "    \n",
        "print(\"Average degree:\", total/n_vertices)\n",
        "print(\"Maximum degree:\", max(degrees))\n",
        "print(\"Vertex ID with the maximum degree:\", degrees.index(max(degrees)))"
      ],
      "execution_count": null,
      "outputs": [
        {
          "output_type": "stream",
          "name": "stdout",
          "text": [
            "Average degree: 7.5279700950325115\n",
            "Maximum degree: 18159\n",
            "Vertex ID with the maximum degree: 73223\n"
          ]
        }
      ]
    },
    {
      "cell_type": "code",
      "metadata": {
        "colab": {
          "base_uri": "https://localhost:8080/"
        },
        "id": "X606q-0pJ80c",
        "outputId": "88abe902-4f4f-4d52-f7e6-aa91a464c86d"
      },
      "source": [
        "print(\"Outgoing neighbors:\", len(g.neighbors(g.vs[73223], mode=\"out\")), \"Incoming neighbors:\", len(g.neighbors(g.vs[73223], mode=\"in\")))"
      ],
      "execution_count": null,
      "outputs": [
        {
          "output_type": "stream",
          "name": "stdout",
          "text": [
            "Outgoing neighbors: 8 Incoming neighbors: 18151\n"
          ]
        }
      ]
    },
    {
      "cell_type": "code",
      "metadata": {
        "colab": {
          "base_uri": "https://localhost:8080/"
        },
        "id": "ItErezzsL5jD",
        "outputId": "e1d18df2-0cf6-4f88-c740-4db2cf019ad2"
      },
      "source": [
        "print(\"The directed assortativity is:\", g.assortativity_degree(directed=True))\n",
        "print(\"The undirected assortativity is:\", g.assortativity_degree(directed=False))\n",
        "#g.assortativity_nominal(types = \"types1\", directed=False)"
      ],
      "execution_count": null,
      "outputs": [
        {
          "output_type": "stream",
          "name": "stdout",
          "text": [
            "The directed assortativity is: -0.0945994470626018\n",
            "The undirected assortativity is: -0.16231093680362235\n"
          ]
        }
      ]
    },
    {
      "cell_type": "code",
      "metadata": {
        "id": "bzfEMHI7kh_D"
      },
      "source": [
        "#execution of the diameter takes a few minutes\n",
        "g.diameter()"
      ],
      "execution_count": null,
      "outputs": []
    },
    {
      "cell_type": "markdown",
      "metadata": {
        "id": "-jm1WwlC3jSb"
      },
      "source": [
        "* Pruning the graph"
      ]
    },
    {
      "cell_type": "code",
      "metadata": {
        "id": "nqRZteI63mDO"
      },
      "source": [
        "#write list with vertices with 1 or fewer degrees\n",
        "del_low_degree_vs = [v.index for v in g.vs if v.degree() <= 1]\n",
        "print(del_low_degree_vs)\n",
        "len(del_low_degree_vs)"
      ],
      "execution_count": null,
      "outputs": []
    },
    {
      "cell_type": "code",
      "metadata": {
        "id": "lJnm3NCYd_YO"
      },
      "source": [
        "#execute the pruning strategies\n",
        "g.delete_vertices(del_low_degree_vs)"
      ],
      "execution_count": null,
      "outputs": []
    },
    {
      "cell_type": "code",
      "metadata": {
        "colab": {
          "base_uri": "https://localhost:8080/"
        },
        "id": "g9hJnSrv36uS",
        "outputId": "4cca216e-a806-4d50-878c-0211af00355d"
      },
      "source": [
        "print(\"New number of vertices:\", g.vcount())\n",
        "print(\"New number of edges:\", g.ecount())\n",
        "print(\"New Density of the graph:\", 2*g.ecount()/(g.vcount()*(g.vcount()-1)))"
      ],
      "execution_count": null,
      "outputs": [
        {
          "output_type": "stream",
          "name": "stdout",
          "text": [
            "New number of vertices: 152497\n",
            "New number of edges: 995246\n",
            "New Density of the graph: 8.559348003280035e-05\n"
          ]
        }
      ]
    },
    {
      "cell_type": "code",
      "metadata": {
        "colab": {
          "base_uri": "https://localhost:8080/"
        },
        "id": "nqeublanlGPS",
        "outputId": "fe03cf45-6ca2-4cff-8121-e855cb55b777"
      },
      "source": [
        "pruned_degrees = []\n",
        "total = 0\n",
        "n_vertices = g.vcount()\n",
        "\n",
        "for n in range(n_vertices):\n",
        "    neighbours = g.neighbors(n, mode='ALL')\n",
        "    total += len(neighbours)\n",
        "    pruned_degrees.append(len(neighbours))\n",
        "    \n",
        "print(\"Average degree:\", total/n_vertices)\n",
        "print(\"Maximum degree:\", max(pruned_degrees))\n",
        "print(\"Vertex ID with the maximum degree:\", pruned_degrees.index(max(pruned_degrees)))"
      ],
      "execution_count": null,
      "outputs": [
        {
          "output_type": "stream",
          "name": "stdout",
          "text": [
            "Average degree: 13.052663331081924\n",
            "Maximum degree: 12610\n",
            "Vertex ID with the maximum degree: 34541\n"
          ]
        }
      ]
    },
    {
      "cell_type": "markdown",
      "metadata": {
        "id": "2rOcEM6sX8Xw"
      },
      "source": [
        "# Power Law analysis\n",
        "\n",
        "- in-depth analysis about the distribution of degree in the graph\n",
        "- further examination of the power law distribution\n",
        "\n",
        "\n"
      ]
    },
    {
      "cell_type": "code",
      "metadata": {
        "id": "U349qYL9YDFK"
      },
      "source": [
        "#load data frame\n",
        "test_retweet_tweet_merge_df_final = pd.read_csv('test_data.csv', dtype={'user_id_x': str, 'user_id_y': str, 'Source': str, 'Target': str, 'retweeted_id': str, 'timestamp': str, 'user_community': str, 'user_community': str, 'timestamp_week':str})\n",
        "g = igraph.Graph.TupleList(test_retweet_tweet_merge_df_final.itertuples(index=False), directed=True, weights=False, edge_attrs=['Source', 'Target', 'retweeted_id', 'timestamp_x', 'user_community'])"
      ],
      "execution_count": null,
      "outputs": []
    },
    {
      "cell_type": "markdown",
      "metadata": {
        "id": "Yct_iZfEZ_9U"
      },
      "source": [
        " $$ f(x) = x ^{- \\alpha} $$"
      ]
    },
    {
      "cell_type": "code",
      "metadata": {
        "colab": {
          "base_uri": "https://localhost:8080/"
        },
        "id": "D7OAa_EmWTeZ",
        "outputId": "e86b2783-1e6d-411f-c1fe-104d50cb34cd"
      },
      "source": [
        "degree = powerlaw.Fit(g.degree(), discrete = True)\n",
        "print(\"Alpha degree:\", -degree.power_law.alpha)\n",
        "print(\"Sigma degree:\", degree.power_law.sigma)\n",
        "print(\"Xmin degree:\",degree.power_law.xmin)"
      ],
      "execution_count": null,
      "outputs": [
        {
          "name": "stdout",
          "output_type": "stream",
          "text": [
            "Calculating best minimal value for power law fit\n",
            "Alpha degree: -2.1927831878341655\n",
            "Sigma degree: 0.007893689163579557\n",
            "Xmin degree: 14.0\n"
          ]
        }
      ]
    },
    {
      "cell_type": "code",
      "metadata": {
        "colab": {
          "base_uri": "https://localhost:8080/"
        },
        "id": "pTVaVw62Zuox",
        "outputId": "537a6aaa-e0e6-4cc9-b700-38b50e5ae57b"
      },
      "source": [
        "degree = powerlaw.Fit(g.indegree(), discrete = True)\n",
        "print(\"Alpha degree:\", -degree.power_law.alpha)\n",
        "print(\"Sigma degree:\", degree.power_law.sigma)\n",
        "print(\"Xmin degree:\",degree.power_law.xmin)"
      ],
      "execution_count": null,
      "outputs": [
        {
          "name": "stdout",
          "output_type": "stream",
          "text": [
            "Calculating best minimal value for power law fit\n",
            "xmin progress: 00%\rxmin progress: 00%\rxmin progress: 00%\rxmin progress: 00%\rxmin progress: 00%\rxmin progress: 00%\rxmin progress: 00%\rxmin progress: 00%\rxmin progress: 01%\rxmin progress: 01%\rxmin progress: 01%\rxmin progress: 01%\rxmin progress: 01%\rxmin progress: 01%\rxmin progress: 01%\rxmin progress: 01%\rxmin progress: 02%\rxmin progress: 02%\rxmin progress: 02%\rxmin progress: 02%\rxmin progress: 02%\rxmin progress: 02%\rxmin progress: 02%\rxmin progress: 03%\rxmin progress: 03%\rxmin progress: 03%\rxmin progress: 03%\rxmin progress: 03%\rxmin progress: 03%\rxmin progress: 03%\rxmin progress: 03%\rxmin progress: 04%\rxmin progress: 04%\rxmin progress: 04%\rxmin progress: 04%\rxmin progress: 04%\rxmin progress: 04%\rxmin progress: 04%\rxmin progress: 04%\rxmin progress: 05%\rxmin progress: 05%\rxmin progress: 05%\rxmin progress: 05%\rxmin progress: 05%\rxmin progress: 05%\rxmin progress: 05%\rxmin progress: 06%\rxmin progress: 06%\rxmin progress: 06%\rxmin progress: 06%\rxmin progress: 06%\rxmin progress: 06%\rxmin progress: 06%\rxmin progress: 06%\rxmin progress: 07%\rxmin progress: 07%\rxmin progress: 07%\rxmin progress: 07%\rxmin progress: 07%\rxmin progress: 07%\rxmin progress: 07%\rxmin progress: 07%\rxmin progress: 08%\rxmin progress: 08%\rxmin progress: 08%\r"
          ]
        },
        {
          "name": "stderr",
          "output_type": "stream",
          "text": [
            "Values less than or equal to 0 in data. Throwing out 0 or negative values\n"
          ]
        },
        {
          "name": "stdout",
          "output_type": "stream",
          "text": [
            "Alpha degree: -1.7773795511763666\n",
            "Sigma degree: 0.00581203126859637\n",
            "Xmin degree: 4.0\n"
          ]
        }
      ]
    },
    {
      "cell_type": "code",
      "metadata": {
        "colab": {
          "base_uri": "https://localhost:8080/"
        },
        "id": "cgi9xZzEZuST",
        "outputId": "3720687e-0e3c-4dea-f8f6-56abd5d0c39a"
      },
      "source": [
        "degree = powerlaw.Fit(g.outdegree(), discrete = True)\n",
        "print(\"Alpha degree:\", -degree.power_law.alpha)\n",
        "print(\"Sigma degree:\", degree.power_law.sigma)\n",
        "print(\"Xmin degree:\",degree.power_law.xmin)"
      ],
      "execution_count": null,
      "outputs": [
        {
          "name": "stdout",
          "output_type": "stream",
          "text": [
            "Calculating best minimal value for power law fit\n",
            "xmin progress: 00%\rxmin progress: 00%\rxmin progress: 00%\rxmin progress: 01%\rxmin progress: 01%\rxmin progress: 02%\rxmin progress: 02%\rxmin progress: 02%\rxmin progress: 03%\rxmin progress: 03%\rxmin progress: 04%\rxmin progress: 04%\rxmin progress: 05%\rxmin progress: 05%\rxmin progress: 05%\rxmin progress: 06%\rxmin progress: 06%\rxmin progress: 07%\rxmin progress: 07%\rxmin progress: 07%\rxmin progress: 08%\rxmin progress: 08%\rxmin progress: 09%\rxmin progress: 09%\rxmin progress: 10%\rxmin progress: 10%\rxmin progress: 10%\rxmin progress: 11%\rxmin progress: 11%\rxmin progress: 12%\rxmin progress: 12%\rxmin progress: 12%\rxmin progress: 13%\rxmin progress: 13%\rxmin progress: 14%\rxmin progress: 14%\rxmin progress: 15%\rxmin progress: 15%\rxmin progress: 15%\rxmin progress: 16%\rxmin progress: 16%\rxmin progress: 17%\rxmin progress: 17%\rxmin progress: 17%\r"
          ]
        },
        {
          "name": "stderr",
          "output_type": "stream",
          "text": [
            "Values less than or equal to 0 in data. Throwing out 0 or negative values\n"
          ]
        },
        {
          "name": "stdout",
          "output_type": "stream",
          "text": [
            "Alpha degree: -3.712952438614128\n",
            "Sigma degree: 0.10000075362611638\n",
            "Xmin degree: 82.0\n"
          ]
        }
      ]
    },
    {
      "cell_type": "code",
      "metadata": {
        "id": "dHCXLeCjXNlK"
      },
      "source": [
        "def Fig_powerlaw(network_degree, xmax):\n",
        "    degree = powerlaw.Fit(network_degree, discrete=True, xmax=xmax)\n",
        "    Fig_Degree = degree.plot_ccdf(color='r', label=r\"Empirical, no $x_{max}$\")\n",
        "    degree.power_law.plot_ccdf(color='r', linestyle='--', ax=Fig_Degree, label=r\"Fit, $x_{max} = $\" + str(xmax))\n",
        "\n",
        "    Fig_Degree.set_ylabel(u\"CCDF\")\n",
        "    Fig_Degree.set_xlabel(r\"Node Degree\")\n",
        "    handles, labels = Fig_Degree.get_legend_handles_labels()\n",
        "    leg = Fig_Degree.legend(handles, labels, loc=3)\n",
        "    leg.draw_frame(False)\n",
        "    \n",
        "    return Fig_Degree"
      ],
      "execution_count": null,
      "outputs": []
    },
    {
      "cell_type": "code",
      "metadata": {
        "colab": {
          "base_uri": "https://localhost:8080/",
          "height": 317
        },
        "id": "hmfR1eNfZaOB",
        "outputId": "66256aad-faf5-4317-c59c-e99cb38f6403"
      },
      "source": [
        "Fig_powerlaw(g.degree(),22000)"
      ],
      "execution_count": null,
      "outputs": [
        {
          "name": "stdout",
          "output_type": "stream",
          "text": [
            "Calculating best minimal value for power law fit\n"
          ]
        },
        {
          "data": {
            "text/plain": [
              "<matplotlib.axes._subplots.AxesSubplot at 0x7f0498da8cd0>"
            ]
          },
          "execution_count": 50,
          "metadata": {},
          "output_type": "execute_result"
        },
        {
          "data": {
            "image/png": "[encoded data removed]",
            "text/plain": [
              "<Figure size 432x288 with 1 Axes>"
            ]
          },
          "metadata": {},
          "output_type": "display_data"
        }
      ]
    },
    {
      "cell_type": "code",
      "metadata": {
        "colab": {
          "base_uri": "https://localhost:8080/",
          "height": 335
        },
        "id": "oUZvok3WZbCe",
        "outputId": "f105a474-f509-4cc5-94d2-7fbc0f867584"
      },
      "source": [
        "Fig_powerlaw(g.indegree(),10000)"
      ],
      "execution_count": null,
      "outputs": [
        {
          "name": "stderr",
          "output_type": "stream",
          "text": [
            "Values less than or equal to 0 in data. Throwing out 0 or negative values\n"
          ]
        },
        {
          "name": "stdout",
          "output_type": "stream",
          "text": [
            "Calculating best minimal value for power law fit\n"
          ]
        },
        {
          "data": {
            "text/plain": [
              "<matplotlib.axes._subplots.AxesSubplot at 0x7f0499c5a2d0>"
            ]
          },
          "execution_count": 51,
          "metadata": {},
          "output_type": "execute_result"
        },
        {
          "data": {
            "image/png": "[encoded data removed]",
            "text/plain": [
              "<Figure size 432x288 with 1 Axes>"
            ]
          },
          "metadata": {},
          "output_type": "display_data"
        }
      ]
    },
    {
      "cell_type": "code",
      "metadata": {
        "colab": {
          "base_uri": "https://localhost:8080/",
          "height": 335
        },
        "id": "Q-Vb8dQsZb2a",
        "outputId": "e40d0afb-0a16-403a-ff8e-28d9a63f8479"
      },
      "source": [
        "Fig_powerlaw(g.outdegree(),500)"
      ],
      "execution_count": null,
      "outputs": [
        {
          "name": "stderr",
          "output_type": "stream",
          "text": [
            "Values less than or equal to 0 in data. Throwing out 0 or negative values\n"
          ]
        },
        {
          "name": "stdout",
          "output_type": "stream",
          "text": [
            "Calculating best minimal value for power law fit\n"
          ]
        },
        {
          "data": {
            "text/plain": [
              "<matplotlib.axes._subplots.AxesSubplot at 0x7f049a0a8b50>"
            ]
          },
          "execution_count": 52,
          "metadata": {},
          "output_type": "execute_result"
        },
        {
          "data": {
            "image/png": "[encoded data removed]",
            "text/plain": [
              "<Figure size 432x288 with 1 Axes>"
            ]
          },
          "metadata": {},
          "output_type": "display_data"
        }
      ]
    },
    {
      "cell_type": "code",
      "metadata": {
        "colab": {
          "base_uri": "https://localhost:8080/",
          "height": 265
        },
        "id": "uTtkNbhicFSI",
        "outputId": "abbd245e-1413-4740-9a04-2f79b2c980e5"
      },
      "source": [
        "fig, (ax_degree, ax_in_degree, ax_out_degree) = plt.subplots(1, 3, figsize=(16, 4), sharey=False)\n",
        "ax_degree.hist(sorted(g.degree()), bins=50, color='#000B3D', edgecolor='white', linewidth=1.2 )\n",
        "ax_degree.set_yscale('log')\n",
        "ax_in_degree.hist(sorted(g.indegree()), bins=50, color='#000B3D', edgecolor='white', linewidth=1.2 )\n",
        "ax_in_degree.set_yscale('log')\n",
        "ax_out_degree.hist(sorted(g.outdegree()), bins=50,   color='#000B3D', edgecolor='white', linewidth=1.2 )\n",
        "ax_out_degree.set_yscale('log')\n",
        "plt.show()"
      ],
      "execution_count": null,
      "outputs": [
        {
          "data": {
            "image/png": "[encoded data removed]",
            "text/plain": [
              "<Figure size 1152x288 with 3 Axes>"
            ]
          },
          "metadata": {},
          "output_type": "display_data"
        }
      ]
    },
    {
      "cell_type": "markdown",
      "metadata": {
        "id": "JPHd37an24AN"
      },
      "source": [
        "# Betweenness calculation\n",
        "\n",
        "- Define the 100 vertices with the highest degree from community 0 AND community 2\n",
        "- set up a function that calculates the betweenness\n",
        "- manually execute the function with specific vertices\n",
        "- write the calculated betweenness centrality values into a csv that is stored on the google drive"
      ]
    },
    {
      "cell_type": "code",
      "metadata": {
        "colab": {
          "base_uri": "https://localhost:8080/"
        },
        "id": "UwY8j0ZGGREw",
        "outputId": "4230cad1-9a93-4419-ba27-72acc85f902c"
      },
      "source": [
        "#largest degree nodes of community 2\n",
        "list_largest_degrees = { v.index : (v.degree(), v['user_community'])  for v in g.vs if v.degree() >= 1350 and v['user_community'] == 2}\n",
        "\n",
        "print(list_largest_degrees.keys())\n",
        "len(list_largest_degrees)"
      ],
      "execution_count": null,
      "outputs": [
        {
          "name": "stdout",
          "output_type": "stream",
          "text": [
            "dict_keys([502, 1216, 1256, 1309, 1310, 1410, 1421, 2471, 3424, 6827, 7157, 7831, 8199, 8640, 8701, 9804, 10833, 11480, 11629, 11790, 12935, 12962, 14450, 14778, 18047, 18429, 19135, 20099, 20748, 20920, 21349, 23487, 23658, 25886, 28828, 29351, 30066, 30323, 30454, 33421, 34541, 34804, 35131, 37589, 39532, 42283, 43312, 44783, 45351, 45455, 45750, 47602, 48427, 48607, 49686, 52565, 53129, 54947, 56157, 60927, 61745, 62674, 62879, 68110, 68587, 70427, 71237, 71972, 73683, 74026, 74341, 74385, 74790, 77185, 78787, 81441, 82899, 83552, 85830, 91135, 91812, 93116, 94620, 98961, 99072, 100939, 102317, 104332, 104962, 104992, 105117, 106714, 106837, 107138, 108023, 108945, 109121, 109405, 110666, 113065])\n"
          ]
        },
        {
          "data": {
            "text/plain": [
              "100"
            ]
          },
          "execution_count": 22,
          "metadata": {},
          "output_type": "execute_result"
        }
      ]
    },
    {
      "cell_type": "code",
      "metadata": {
        "colab": {
          "base_uri": "https://localhost:8080/"
        },
        "id": "1Ym0E6KfBa0b",
        "outputId": "0e8647b1-4136-49c9-9e47-1f39fa8cec45"
      },
      "source": [
        "#largest degrees of community 0\n",
        "largest_degrees_0 = { v.index : (v.degree(), v['user_community'])  for v in g.vs if v.degree() >= 400 and v.degree() <= 1000 and v['user_community'] == 0}\n",
        "\n",
        "print(largest_degrees_0.keys())\n",
        "len(largest_degrees_0)"
      ],
      "execution_count": null,
      "outputs": [
        {
          "output_type": "stream",
          "name": "stdout",
          "text": [
            "dict_keys([2700, 6062, 29037, 47695, 49160, 113484, 113675, 114073, 114595, 114694, 115408, 118068, 118334, 118684, 118737, 119326, 119693, 119843, 120456, 121799, 121809, 122102, 122340, 122695, 123013, 123273, 124785, 125679, 126285, 127579, 128147, 128588, 128624, 128760, 128967, 129008, 129572, 129701, 129757, 129760, 130643, 132495, 133061, 133193, 133823, 136205, 136405, 136754, 139900, 140097, 140511, 142156, 143736, 144221, 144276, 144574, 145444, 145629, 147890, 148124, 148701, 149116, 150390, 150641, 151277])\n"
          ]
        },
        {
          "output_type": "execute_result",
          "data": {
            "text/plain": [
              "65"
            ]
          },
          "metadata": {},
          "execution_count": 66
        }
      ]
    },
    {
      "cell_type": "code",
      "metadata": {
        "id": "JtGPlbvdcWna"
      },
      "source": [
        "#define manual calculator for betweenness per relevant node\n",
        "#build dictionary with vertex ID as key and betweenness as value\n",
        "#very long execution, thus manual triggering\n",
        "\n",
        "def manual_calc_betweennessII(vertex_list):\n",
        "  \n",
        "  denominator = len(g.vs) * (len(g.vs)-1)\n",
        "  betweenness_largest_vs = {}\n",
        "\n",
        "  for vertex in vertex_list:\n",
        "    temp_betweenness = { vertex : (g.betweenness(vertices=vertex, cutoff = 6, directed=True)/denominator)}\n",
        "    betweenness_largest_vs[vertex] = temp_betweenness[vertex]\n",
        "    temp_betweenness = {}\n",
        "\n",
        "  #import csv of already calculated csv's to df\n",
        "  vertex_betweenness_ranked_df = pd.read_csv('gdrive/MyDrive/Privat/Master Thesis Data/betweenness_49_II.csv', index_col=0)\n",
        "  #append the new calculated betweenness values to the existing csv\n",
        "  vertex_betweenness_ranked_df = vertex_betweenness_ranked_df.append(pd.DataFrame.from_dict(data=betweenness_largest_vs, orient= 'index' , columns=[\"Betweenness\"]))\n",
        "  #write df into a csv in order to store it permanently\n",
        "  vertex_betweenness_ranked_df.to_csv(r'gdrive/MyDrive/Privat/Master Thesis Data/betweenness_49_II.csv', index = True)\n",
        "\n",
        "  return vertex_betweenness_ranked_df.tail(10)"
      ],
      "execution_count": null,
      "outputs": []
    },
    {
      "cell_type": "code",
      "metadata": {
        "colab": {
          "base_uri": "https://localhost:8080/",
          "height": 352
        },
        "id": "_GO8ZKE5dLlo",
        "outputId": "4d8a7d48-502a-48c9-c9e8-1452f7e80d55"
      },
      "source": [
        "#trigger the betweenness calculation function\n",
        "#only 15 vertices at once, otherwise the runtime might recycle\n",
        "\n",
        "vertex_list = [144221, 144276, 144574, 145444, 145629, 147890, 148124, 148701, 149116, 150390, 150641, 151277]\n",
        "manual_calc_betweennessII(vertex_list)\n",
        "\n",
        "#if a in temp_node_csv.index or b in temp_node_csv.index:\n",
        " # print(\"Node is already calculated\")\n",
        "#else:\n",
        " # manual_calc_betweenness(a, b)"
      ],
      "execution_count": null,
      "outputs": [
        {
          "output_type": "execute_result",
          "data": {
            "text/html": [
              "<div>\n",
              "<style scoped>\n",
              "    .dataframe tbody tr th:only-of-type {\n",
              "        vertical-align: middle;\n",
              "    }\n",
              "\n",
              "    .dataframe tbody tr th {\n",
              "        vertical-align: top;\n",
              "    }\n",
              "\n",
              "    .dataframe thead th {\n",
              "        text-align: right;\n",
              "    }\n",
              "</style>\n",
              "<table border=\"1\" class=\"dataframe\">\n",
              "  <thead>\n",
              "    <tr style=\"text-align: right;\">\n",
              "      <th></th>\n",
              "      <th>Betweenness</th>\n",
              "    </tr>\n",
              "  </thead>\n",
              "  <tbody>\n",
              "    <tr>\n",
              "      <th>144574</th>\n",
              "      <td>0.000027</td>\n",
              "    </tr>\n",
              "    <tr>\n",
              "      <th>145444</th>\n",
              "      <td>0.000074</td>\n",
              "    </tr>\n",
              "    <tr>\n",
              "      <th>145629</th>\n",
              "      <td>0.000145</td>\n",
              "    </tr>\n",
              "    <tr>\n",
              "      <th>147890</th>\n",
              "      <td>0.000125</td>\n",
              "    </tr>\n",
              "    <tr>\n",
              "      <th>148124</th>\n",
              "      <td>0.000045</td>\n",
              "    </tr>\n",
              "    <tr>\n",
              "      <th>148701</th>\n",
              "      <td>0.000250</td>\n",
              "    </tr>\n",
              "    <tr>\n",
              "      <th>149116</th>\n",
              "      <td>0.000076</td>\n",
              "    </tr>\n",
              "    <tr>\n",
              "      <th>150390</th>\n",
              "      <td>0.000071</td>\n",
              "    </tr>\n",
              "    <tr>\n",
              "      <th>150641</th>\n",
              "      <td>0.000000</td>\n",
              "    </tr>\n",
              "    <tr>\n",
              "      <th>151277</th>\n",
              "      <td>0.000090</td>\n",
              "    </tr>\n",
              "  </tbody>\n",
              "</table>\n",
              "</div>"
            ],
            "text/plain": [
              "        Betweenness\n",
              "144574     0.000027\n",
              "145444     0.000074\n",
              "145629     0.000145\n",
              "147890     0.000125\n",
              "148124     0.000045\n",
              "148701     0.000250\n",
              "149116     0.000076\n",
              "150390     0.000071\n",
              "150641     0.000000\n",
              "151277     0.000090"
            ]
          },
          "metadata": {},
          "execution_count": 25
        }
      ]
    },
    {
      "cell_type": "markdown",
      "metadata": {
        "id": "iI2S5jIwqMUM"
      },
      "source": [
        "# Enriching the data set\n",
        "\n",
        "- import the csv containing the betweenness values of the top-degree vertices\n",
        "- further enrich the vertices with information from the originial data set\n",
        "  - degree\n",
        "  - User ID\n",
        "  - incoming edges (user was retweeted)\n",
        "  - Percentage of retweets to the respective own community (from 0 to 0 and 2 to 2) (now called homophily)\n",
        "- rank the nodes regarding their betweenness\n",
        "- store the enriched data frame in another csv titled superspreaders_49_final\n",
        "- plot Betweenness x Degree to figure out how the degree influences the betweenness value\n"
      ]
    },
    {
      "cell_type": "code",
      "metadata": {
        "colab": {
          "base_uri": "https://localhost:8080/",
          "height": 411
        },
        "id": "BNwK-DUWzopE",
        "outputId": "4c58d828-509d-4998-c23f-86e3b1147e63"
      },
      "source": [
        "#further add columns to enrich the betweenness csv\n",
        "vertex_betweenness_ranked_df= pd.read_csv('gdrive/MyDrive/Privat/Master Thesis Data/betweenness_49_II.csv', index_col=0)\n",
        "\n",
        "temp_degree_storage = []\n",
        "temp_name_storage = []\n",
        "temp_inc_edges_storage = []\n",
        "calc_edge_ratio = {}\n",
        "temp_edge_ratio_storage = {}\n",
        "temp_comunity_storage = []\n",
        "\n",
        "\n",
        "community_0_set = set( [v.index for v in g.vs if v['user_community'] == 0] )\n",
        "community_2_set = set( [v.index for v in g.vs if v['user_community'] == 2] )\n",
        "\n",
        "\n",
        "#for each vertex in the list, calculate the following parameters and add them to the data frame\n",
        "#degree\n",
        "#User ID\n",
        "#incoming edges (user was retweeted)\n",
        "#Percentage of retweets to the respective other community (from 0 to 2 and vice versa) (now called homophily)\n",
        "for vertex in vertex_betweenness_ranked_df.index:\n",
        "  temp_degree_storage.append(g.degree(vertices=vertex))\n",
        "  temp_name_storage.append(g.vs[vertex]['name'])\n",
        "  temp_inc_edges_storage.append(len(g.neighbors(vertex, mode='in')))\n",
        "  temp_comunity_storage.append(g.vs[vertex]['user_community'])\n",
        "\n",
        "calc_edge_ratio = { v : g.neighbors(vertex=v) for v in vertex_betweenness_ranked_df.index}\n",
        "  \n",
        "for v in calc_edge_ratio.keys():\n",
        "  same_com = 0\n",
        "  for n in calc_edge_ratio[v]:\n",
        "    if (v in community_0_set and n in community_0_set) or (v in community_2_set and n in community_2_set):\n",
        "      same_com += 1\n",
        "  temp_edge_ratio_storage[v] = same_com / len(calc_edge_ratio[v])\n",
        "\n",
        "#append new columns\n",
        "vertex_betweenness_ranked_df['Degree'] = temp_degree_storage\n",
        "vertex_betweenness_ranked_df['User-ID'] = temp_name_storage\n",
        "vertex_betweenness_ranked_df['Incoming_Edges'] = temp_inc_edges_storage\n",
        "vertex_betweenness_ranked_df['Homophily'] = vertex_betweenness_ranked_df.index.map(temp_edge_ratio_storage)\n",
        "vertex_betweenness_ranked_df['User_Community'] = temp_comunity_storage\n",
        "\n",
        "#vertex_betweenness_ranked_df = vertex_betweenness_ranked_df.drop(vertex_betweenness_ranked_df.loc[vertex_betweenness_ranked_df['User_Community']==0].index, inplace=True)\n",
        "\n",
        "#edit the df by removing duplicates and sorting by betweenness\n",
        "vertex_betweenness_ranked_df = vertex_betweenness_ranked_df[~vertex_betweenness_ranked_df.index.duplicated(keep='first')]\n",
        "vertex_betweenness_ranked_df.sort_values(by = ['Betweenness'], ascending=False, inplace=True)\n",
        "vertex_betweenness_ranked_df"
      ],
      "execution_count": null,
      "outputs": [
        {
          "output_type": "execute_result",
          "data": {
            "text/html": [
              "<div>\n",
              "<style scoped>\n",
              "    .dataframe tbody tr th:only-of-type {\n",
              "        vertical-align: middle;\n",
              "    }\n",
              "\n",
              "    .dataframe tbody tr th {\n",
              "        vertical-align: top;\n",
              "    }\n",
              "\n",
              "    .dataframe thead th {\n",
              "        text-align: right;\n",
              "    }\n",
              "</style>\n",
              "<table border=\"1\" class=\"dataframe\">\n",
              "  <thead>\n",
              "    <tr style=\"text-align: right;\">\n",
              "      <th></th>\n",
              "      <th>Betweenness</th>\n",
              "      <th>Degree</th>\n",
              "      <th>User-ID</th>\n",
              "      <th>Incoming_Edges</th>\n",
              "      <th>Homophily</th>\n",
              "      <th>User_Community</th>\n",
              "    </tr>\n",
              "  </thead>\n",
              "  <tbody>\n",
              "    <tr>\n",
              "      <th>61745</th>\n",
              "      <td>0.005548</td>\n",
              "      <td>6860</td>\n",
              "      <td>1546656000</td>\n",
              "      <td>6508</td>\n",
              "      <td>0.758309</td>\n",
              "      <td>2</td>\n",
              "    </tr>\n",
              "    <tr>\n",
              "      <th>74026</th>\n",
              "      <td>0.002665</td>\n",
              "      <td>11203</td>\n",
              "      <td>2922345639</td>\n",
              "      <td>11052</td>\n",
              "      <td>0.736767</td>\n",
              "      <td>2</td>\n",
              "    </tr>\n",
              "    <tr>\n",
              "      <th>3424</th>\n",
              "      <td>0.002637</td>\n",
              "      <td>3976</td>\n",
              "      <td>16585101</td>\n",
              "      <td>3721</td>\n",
              "      <td>0.690895</td>\n",
              "      <td>2</td>\n",
              "    </tr>\n",
              "    <tr>\n",
              "      <th>25886</th>\n",
              "      <td>0.001791</td>\n",
              "      <td>5070</td>\n",
              "      <td>115681686</td>\n",
              "      <td>4886</td>\n",
              "      <td>0.757791</td>\n",
              "      <td>2</td>\n",
              "    </tr>\n",
              "    <tr>\n",
              "      <th>108945</th>\n",
              "      <td>0.001743</td>\n",
              "      <td>3968</td>\n",
              "      <td>951302891708583936</td>\n",
              "      <td>3802</td>\n",
              "      <td>0.695817</td>\n",
              "      <td>2</td>\n",
              "    </tr>\n",
              "    <tr>\n",
              "      <th>...</th>\n",
              "      <td>...</td>\n",
              "      <td>...</td>\n",
              "      <td>...</td>\n",
              "      <td>...</td>\n",
              "      <td>...</td>\n",
              "      <td>...</td>\n",
              "    </tr>\n",
              "    <tr>\n",
              "      <th>39532</th>\n",
              "      <td>0.000000</td>\n",
              "      <td>5875</td>\n",
              "      <td>341190477</td>\n",
              "      <td>5875</td>\n",
              "      <td>0.807660</td>\n",
              "      <td>2</td>\n",
              "    </tr>\n",
              "    <tr>\n",
              "      <th>128624</th>\n",
              "      <td>0.000000</td>\n",
              "      <td>689</td>\n",
              "      <td>1203661881476571136</td>\n",
              "      <td>689</td>\n",
              "      <td>0.323657</td>\n",
              "      <td>0</td>\n",
              "    </tr>\n",
              "    <tr>\n",
              "      <th>37589</th>\n",
              "      <td>0.000000</td>\n",
              "      <td>1372</td>\n",
              "      <td>304679484</td>\n",
              "      <td>1372</td>\n",
              "      <td>0.783528</td>\n",
              "      <td>2</td>\n",
              "    </tr>\n",
              "    <tr>\n",
              "      <th>121390</th>\n",
              "      <td>0.000000</td>\n",
              "      <td>1696</td>\n",
              "      <td>1113828112503115776</td>\n",
              "      <td>1693</td>\n",
              "      <td>0.212264</td>\n",
              "      <td>0</td>\n",
              "    </tr>\n",
              "    <tr>\n",
              "      <th>123156</th>\n",
              "      <td>0.000000</td>\n",
              "      <td>1131</td>\n",
              "      <td>1143542870575595520</td>\n",
              "      <td>1131</td>\n",
              "      <td>0.195402</td>\n",
              "      <td>0</td>\n",
              "    </tr>\n",
              "  </tbody>\n",
              "</table>\n",
              "<p>195 rows × 6 columns</p>\n",
              "</div>"
            ],
            "text/plain": [
              "        Betweenness  Degree  ...  Homophily  User_Community\n",
              "61745      0.005548    6860  ...   0.758309               2\n",
              "74026      0.002665   11203  ...   0.736767               2\n",
              "3424       0.002637    3976  ...   0.690895               2\n",
              "25886      0.001791    5070  ...   0.757791               2\n",
              "108945     0.001743    3968  ...   0.695817               2\n",
              "...             ...     ...  ...        ...             ...\n",
              "39532      0.000000    5875  ...   0.807660               2\n",
              "128624     0.000000     689  ...   0.323657               0\n",
              "37589      0.000000    1372  ...   0.783528               2\n",
              "121390     0.000000    1696  ...   0.212264               0\n",
              "123156     0.000000    1131  ...   0.195402               0\n",
              "\n",
              "[195 rows x 6 columns]"
            ]
          },
          "metadata": {},
          "execution_count": 18
        }
      ]
    },
    {
      "cell_type": "code",
      "metadata": {
        "id": "Z2Bbo9E0Kn_m"
      },
      "source": [
        "#write new df into a csv file\n",
        "enriched_superspreaders_df = vertex_betweenness_ranked_df\n",
        "enriched_superspreaders_df.to_csv(r'gdrive/MyDrive/Privat/Master Thesis Data/superspreaders_49_final.csv', index = True)"
      ],
      "execution_count": null,
      "outputs": []
    },
    {
      "cell_type": "code",
      "metadata": {
        "colab": {
          "base_uri": "https://localhost:8080/",
          "height": 772
        },
        "id": "loiZmnRjbPmG",
        "outputId": "0ecda9ae-6915-44f3-b068-407d85b00ac9"
      },
      "source": [
        "#plot the betweenness x degree\n",
        "\n",
        "import matplotlib.pyplot as plt\n",
        "import pandas as pd\n",
        "import numpy as np\n",
        "enriched_superspreaders_df = pd.read_csv('gdrive/MyDrive/Privat/Master Thesis Data/superspreaders_49_II.csv', index_col=0)\n",
        "\n",
        "plt.figure(figsize=(15,11))\n",
        "plt.title('betweenness x degree', fontsize=50)\n",
        "plt.xlabel('Degree', fontsize=40)\n",
        "plt.ylabel('Betweenness', fontsize=40)\n",
        "plt.xticks(fontsize=30)\n",
        "plt.yticks(fontsize=30)\n",
        "scatter_colors = np.where(enriched_superspreaders_df['User_Community']==2,'orange','grey')\n",
        "\n",
        "# calc the trendline\n",
        "z = np.polyfit(enriched_superspreaders_df.Degree, enriched_superspreaders_df.Betweenness, 1)\n",
        "p = np.poly1d(z)\n",
        "plt.plot(enriched_superspreaders_df.Degree,p(enriched_superspreaders_df.Degree),\"r--\")\n",
        "\n",
        "plt.scatter( enriched_superspreaders_df.Degree, enriched_superspreaders_df.Betweenness, c=scatter_colors)\n",
        "# the line equation:\n",
        "print( \"y=%.6fx+(%.6f)\"%(z[0],z[1]))"
      ],
      "execution_count": null,
      "outputs": [
        {
          "output_type": "stream",
          "name": "stdout",
          "text": [
            "y=0.000000x+(0.000053)\n"
          ]
        },
        {
          "output_type": "display_data",
          "data": {
            "image/png": "[encoded data removed]",
            "text/plain": [
              "<Figure size 1080x792 with 1 Axes>"
            ]
          },
          "metadata": {
            "needs_background": "light"
          }
        }
      ]
    },
    {
      "cell_type": "code",
      "metadata": {
        "id": "5NURZLR6rTOT"
      },
      "source": [
        "#Different multiplication approach\n",
        "plt.hist((enriched_superspreaders_df[\"Edge_Ratio\"] * enriched_superspreaders_df[\"Degree\"]), bins=10, color='#000B3D', edgecolor='white', linewidth=1.2 )\n",
        "plt.show()"
      ],
      "execution_count": null,
      "outputs": []
    },
    {
      "cell_type": "code",
      "metadata": {
        "id": "xfmOe9xECT8A"
      },
      "source": [
        "enriched_superspreaders_df"
      ],
      "execution_count": null,
      "outputs": []
    },
    {
      "cell_type": "markdown",
      "metadata": {
        "id": "GaeaPDzQuTjd"
      },
      "source": [
        "# Homophily\n",
        "- Calculate the homophily for all users (where degree >1) in the original dataset in cw49\n",
        "- plot Betweenness X Homophily to see how betweenness and homophily influence one another\n",
        "- plot Homophily X Degree\n",
        "- plot various histograms to see the distribution of homophily in the network"
      ]
    },
    {
      "cell_type": "code",
      "metadata": {
        "colab": {
          "base_uri": "https://localhost:8080/",
          "height": 1000
        },
        "id": "TJO0qWpzUmXS",
        "outputId": "16a78d42-fd48-4fee-b2b0-63c3d51c2212"
      },
      "source": [
        "### identify the 100 nodes with the highest homophily X degree\n",
        "\n",
        "# establish which node is in which community\n",
        "community_0_set = set( [v.index for v in g.vs if v['user_community'] == 0] )\n",
        "community_2_set = set( [v.index for v in g.vs if v['user_community'] == 2] )\n",
        "\n",
        "#initialize empty lists and dicts\n",
        "temp_degree_storage = []\n",
        "temp_name_storage = []\n",
        "temp_edge_ratio_storage = {}\n",
        "all_vertices_df = pd.DataFrame()\n",
        "temp_comunity_storage = []\n",
        "\n",
        "#retrieve all nodes with a degree >1 and identify its neighbors\n",
        "all_vertices_edge_ratio = { vertex.index : g.neighbors(vertex=vertex) for vertex in g.vs if vertex.degree() > 1}\n",
        "\n",
        "#for each vertex, calculate how many neighbors are in the same community and return it as a percentage of total edges\n",
        "for v in all_vertices_edge_ratio.keys():\n",
        "  same_com = 0\n",
        "  for n in all_vertices_edge_ratio[v]:\n",
        "    if (v in community_0_set and n in community_0_set) or (v in community_2_set and n in community_2_set):\n",
        "      same_com += 1\n",
        "  temp_edge_ratio_storage[v] = same_com / len(all_vertices_edge_ratio[v])\n",
        "\n",
        "#retrieve the degree of each of the nodes\n",
        "for vertex in all_vertices_edge_ratio.keys():\n",
        "  temp_degree_storage.append(g.degree(vertices=vertex))\n",
        "  temp_comunity_storage.append(g.vs[vertex]['user_community'])\n",
        "\n",
        "#write the dictionary into a df\n",
        "all_vertices_df = all_vertices_df.append(pd.DataFrame.from_dict(temp_edge_ratio_storage, orient= 'index', columns=['Homophily']))\n",
        "\n",
        "#enrich the data set with the values of degree and degree*edge_ratio\n",
        "all_vertices_df['Degree'] = temp_degree_storage\n",
        "all_vertices_df['Homophily_X_Degree'] = all_vertices_df['Homophily']*all_vertices_df['Degree']\n",
        "all_vertices_df['User_Community'] = temp_comunity_storage\n",
        "all_vertices_df.sort_values(by=['Homophily_X_Degree'], ascending=False).head(50)"
      ],
      "execution_count": null,
      "outputs": [
        {
          "output_type": "execute_result",
          "data": {
            "text/html": [
              "<div>\n",
              "<style scoped>\n",
              "    .dataframe tbody tr th:only-of-type {\n",
              "        vertical-align: middle;\n",
              "    }\n",
              "\n",
              "    .dataframe tbody tr th {\n",
              "        vertical-align: top;\n",
              "    }\n",
              "\n",
              "    .dataframe thead th {\n",
              "        text-align: right;\n",
              "    }\n",
              "</style>\n",
              "<table border=\"1\" class=\"dataframe\">\n",
              "  <thead>\n",
              "    <tr style=\"text-align: right;\">\n",
              "      <th></th>\n",
              "      <th>Homophily</th>\n",
              "      <th>Degree</th>\n",
              "      <th>Homophily_X_Degree</th>\n",
              "      <th>User_Community</th>\n",
              "    </tr>\n",
              "  </thead>\n",
              "  <tbody>\n",
              "    <tr>\n",
              "      <th>34541</th>\n",
              "      <td>0.793656</td>\n",
              "      <td>12610</td>\n",
              "      <td>10008.0</td>\n",
              "      <td>2</td>\n",
              "    </tr>\n",
              "    <tr>\n",
              "      <th>12962</th>\n",
              "      <td>0.804329</td>\n",
              "      <td>10625</td>\n",
              "      <td>8546.0</td>\n",
              "      <td>2</td>\n",
              "    </tr>\n",
              "    <tr>\n",
              "      <th>74026</th>\n",
              "      <td>0.736767</td>\n",
              "      <td>11203</td>\n",
              "      <td>8254.0</td>\n",
              "      <td>2</td>\n",
              "    </tr>\n",
              "    <tr>\n",
              "      <th>42283</th>\n",
              "      <td>0.731752</td>\n",
              "      <td>8220</td>\n",
              "      <td>6015.0</td>\n",
              "      <td>2</td>\n",
              "    </tr>\n",
              "    <tr>\n",
              "      <th>1309</th>\n",
              "      <td>0.827138</td>\n",
              "      <td>7075</td>\n",
              "      <td>5852.0</td>\n",
              "      <td>2</td>\n",
              "    </tr>\n",
              "    <tr>\n",
              "      <th>61745</th>\n",
              "      <td>0.758309</td>\n",
              "      <td>6860</td>\n",
              "      <td>5202.0</td>\n",
              "      <td>2</td>\n",
              "    </tr>\n",
              "    <tr>\n",
              "      <th>1310</th>\n",
              "      <td>0.824890</td>\n",
              "      <td>6139</td>\n",
              "      <td>5064.0</td>\n",
              "      <td>2</td>\n",
              "    </tr>\n",
              "    <tr>\n",
              "      <th>60927</th>\n",
              "      <td>0.703764</td>\n",
              "      <td>6802</td>\n",
              "      <td>4787.0</td>\n",
              "      <td>2</td>\n",
              "    </tr>\n",
              "    <tr>\n",
              "      <th>39532</th>\n",
              "      <td>0.807660</td>\n",
              "      <td>5875</td>\n",
              "      <td>4745.0</td>\n",
              "      <td>2</td>\n",
              "    </tr>\n",
              "    <tr>\n",
              "      <th>81441</th>\n",
              "      <td>0.691420</td>\n",
              "      <td>6760</td>\n",
              "      <td>4674.0</td>\n",
              "      <td>2</td>\n",
              "    </tr>\n",
              "    <tr>\n",
              "      <th>62674</th>\n",
              "      <td>0.739875</td>\n",
              "      <td>6074</td>\n",
              "      <td>4494.0</td>\n",
              "      <td>2</td>\n",
              "    </tr>\n",
              "    <tr>\n",
              "      <th>23487</th>\n",
              "      <td>0.718338</td>\n",
              "      <td>5993</td>\n",
              "      <td>4305.0</td>\n",
              "      <td>2</td>\n",
              "    </tr>\n",
              "    <tr>\n",
              "      <th>25886</th>\n",
              "      <td>0.757791</td>\n",
              "      <td>5070</td>\n",
              "      <td>3842.0</td>\n",
              "      <td>2</td>\n",
              "    </tr>\n",
              "    <tr>\n",
              "      <th>45455</th>\n",
              "      <td>0.795031</td>\n",
              "      <td>4669</td>\n",
              "      <td>3712.0</td>\n",
              "      <td>2</td>\n",
              "    </tr>\n",
              "    <tr>\n",
              "      <th>14450</th>\n",
              "      <td>0.759313</td>\n",
              "      <td>4832</td>\n",
              "      <td>3669.0</td>\n",
              "      <td>2</td>\n",
              "    </tr>\n",
              "    <tr>\n",
              "      <th>68110</th>\n",
              "      <td>0.812939</td>\n",
              "      <td>4127</td>\n",
              "      <td>3355.0</td>\n",
              "      <td>2</td>\n",
              "    </tr>\n",
              "    <tr>\n",
              "      <th>78787</th>\n",
              "      <td>0.752253</td>\n",
              "      <td>4327</td>\n",
              "      <td>3255.0</td>\n",
              "      <td>2</td>\n",
              "    </tr>\n",
              "    <tr>\n",
              "      <th>21349</th>\n",
              "      <td>0.724641</td>\n",
              "      <td>4111</td>\n",
              "      <td>2979.0</td>\n",
              "      <td>2</td>\n",
              "    </tr>\n",
              "    <tr>\n",
              "      <th>68587</th>\n",
              "      <td>0.775940</td>\n",
              "      <td>3749</td>\n",
              "      <td>2909.0</td>\n",
              "      <td>2</td>\n",
              "    </tr>\n",
              "    <tr>\n",
              "      <th>43312</th>\n",
              "      <td>0.826507</td>\n",
              "      <td>3516</td>\n",
              "      <td>2906.0</td>\n",
              "      <td>2</td>\n",
              "    </tr>\n",
              "    <tr>\n",
              "      <th>77185</th>\n",
              "      <td>0.832467</td>\n",
              "      <td>3462</td>\n",
              "      <td>2882.0</td>\n",
              "      <td>2</td>\n",
              "    </tr>\n",
              "    <tr>\n",
              "      <th>11629</th>\n",
              "      <td>0.787837</td>\n",
              "      <td>3634</td>\n",
              "      <td>2863.0</td>\n",
              "      <td>2</td>\n",
              "    </tr>\n",
              "    <tr>\n",
              "      <th>502</th>\n",
              "      <td>0.833088</td>\n",
              "      <td>3391</td>\n",
              "      <td>2825.0</td>\n",
              "      <td>2</td>\n",
              "    </tr>\n",
              "    <tr>\n",
              "      <th>94620</th>\n",
              "      <td>0.763893</td>\n",
              "      <td>3617</td>\n",
              "      <td>2763.0</td>\n",
              "      <td>2</td>\n",
              "    </tr>\n",
              "    <tr>\n",
              "      <th>108945</th>\n",
              "      <td>0.695817</td>\n",
              "      <td>3968</td>\n",
              "      <td>2761.0</td>\n",
              "      <td>2</td>\n",
              "    </tr>\n",
              "    <tr>\n",
              "      <th>3424</th>\n",
              "      <td>0.690895</td>\n",
              "      <td>3976</td>\n",
              "      <td>2747.0</td>\n",
              "      <td>2</td>\n",
              "    </tr>\n",
              "    <tr>\n",
              "      <th>49686</th>\n",
              "      <td>0.694947</td>\n",
              "      <td>3760</td>\n",
              "      <td>2613.0</td>\n",
              "      <td>2</td>\n",
              "    </tr>\n",
              "    <tr>\n",
              "      <th>9804</th>\n",
              "      <td>0.783833</td>\n",
              "      <td>3303</td>\n",
              "      <td>2589.0</td>\n",
              "      <td>2</td>\n",
              "    </tr>\n",
              "    <tr>\n",
              "      <th>11480</th>\n",
              "      <td>0.726481</td>\n",
              "      <td>3561</td>\n",
              "      <td>2587.0</td>\n",
              "      <td>2</td>\n",
              "    </tr>\n",
              "    <tr>\n",
              "      <th>7157</th>\n",
              "      <td>0.830953</td>\n",
              "      <td>3011</td>\n",
              "      <td>2502.0</td>\n",
              "      <td>2</td>\n",
              "    </tr>\n",
              "    <tr>\n",
              "      <th>93116</th>\n",
              "      <td>0.742246</td>\n",
              "      <td>3321</td>\n",
              "      <td>2465.0</td>\n",
              "      <td>2</td>\n",
              "    </tr>\n",
              "    <tr>\n",
              "      <th>45351</th>\n",
              "      <td>0.747786</td>\n",
              "      <td>3275</td>\n",
              "      <td>2449.0</td>\n",
              "      <td>2</td>\n",
              "    </tr>\n",
              "    <tr>\n",
              "      <th>47602</th>\n",
              "      <td>0.674699</td>\n",
              "      <td>3569</td>\n",
              "      <td>2408.0</td>\n",
              "      <td>2</td>\n",
              "    </tr>\n",
              "    <tr>\n",
              "      <th>30066</th>\n",
              "      <td>0.786689</td>\n",
              "      <td>3005</td>\n",
              "      <td>2364.0</td>\n",
              "      <td>2</td>\n",
              "    </tr>\n",
              "    <tr>\n",
              "      <th>20099</th>\n",
              "      <td>0.790454</td>\n",
              "      <td>2954</td>\n",
              "      <td>2335.0</td>\n",
              "      <td>2</td>\n",
              "    </tr>\n",
              "    <tr>\n",
              "      <th>30454</th>\n",
              "      <td>0.699118</td>\n",
              "      <td>3287</td>\n",
              "      <td>2298.0</td>\n",
              "      <td>2</td>\n",
              "    </tr>\n",
              "    <tr>\n",
              "      <th>18047</th>\n",
              "      <td>0.806567</td>\n",
              "      <td>2802</td>\n",
              "      <td>2260.0</td>\n",
              "      <td>2</td>\n",
              "    </tr>\n",
              "    <tr>\n",
              "      <th>1421</th>\n",
              "      <td>0.832400</td>\n",
              "      <td>2679</td>\n",
              "      <td>2230.0</td>\n",
              "      <td>2</td>\n",
              "    </tr>\n",
              "    <tr>\n",
              "      <th>8199</th>\n",
              "      <td>0.761173</td>\n",
              "      <td>2864</td>\n",
              "      <td>2180.0</td>\n",
              "      <td>2</td>\n",
              "    </tr>\n",
              "    <tr>\n",
              "      <th>108023</th>\n",
              "      <td>0.686794</td>\n",
              "      <td>3097</td>\n",
              "      <td>2127.0</td>\n",
              "      <td>2</td>\n",
              "    </tr>\n",
              "    <tr>\n",
              "      <th>18429</th>\n",
              "      <td>0.803936</td>\n",
              "      <td>2642</td>\n",
              "      <td>2124.0</td>\n",
              "      <td>2</td>\n",
              "    </tr>\n",
              "    <tr>\n",
              "      <th>8701</th>\n",
              "      <td>0.719379</td>\n",
              "      <td>2833</td>\n",
              "      <td>2038.0</td>\n",
              "      <td>2</td>\n",
              "    </tr>\n",
              "    <tr>\n",
              "      <th>8640</th>\n",
              "      <td>0.798194</td>\n",
              "      <td>2547</td>\n",
              "      <td>2033.0</td>\n",
              "      <td>2</td>\n",
              "    </tr>\n",
              "    <tr>\n",
              "      <th>74385</th>\n",
              "      <td>0.671587</td>\n",
              "      <td>2981</td>\n",
              "      <td>2002.0</td>\n",
              "      <td>2</td>\n",
              "    </tr>\n",
              "    <tr>\n",
              "      <th>102317</th>\n",
              "      <td>0.817420</td>\n",
              "      <td>2388</td>\n",
              "      <td>1952.0</td>\n",
              "      <td>2</td>\n",
              "    </tr>\n",
              "    <tr>\n",
              "      <th>91135</th>\n",
              "      <td>0.769565</td>\n",
              "      <td>2530</td>\n",
              "      <td>1947.0</td>\n",
              "      <td>2</td>\n",
              "    </tr>\n",
              "    <tr>\n",
              "      <th>104992</th>\n",
              "      <td>0.733032</td>\n",
              "      <td>2652</td>\n",
              "      <td>1944.0</td>\n",
              "      <td>2</td>\n",
              "    </tr>\n",
              "    <tr>\n",
              "      <th>7831</th>\n",
              "      <td>0.838261</td>\n",
              "      <td>2300</td>\n",
              "      <td>1928.0</td>\n",
              "      <td>2</td>\n",
              "    </tr>\n",
              "    <tr>\n",
              "      <th>20920</th>\n",
              "      <td>0.702190</td>\n",
              "      <td>2740</td>\n",
              "      <td>1924.0</td>\n",
              "      <td>2</td>\n",
              "    </tr>\n",
              "    <tr>\n",
              "      <th>98961</th>\n",
              "      <td>0.734935</td>\n",
              "      <td>2456</td>\n",
              "      <td>1805.0</td>\n",
              "      <td>2</td>\n",
              "    </tr>\n",
              "  </tbody>\n",
              "</table>\n",
              "</div>"
            ],
            "text/plain": [
              "        Homophily  Degree  Homophily_X_Degree  User_Community\n",
              "34541    0.793656   12610             10008.0               2\n",
              "12962    0.804329   10625              8546.0               2\n",
              "74026    0.736767   11203              8254.0               2\n",
              "42283    0.731752    8220              6015.0               2\n",
              "1309     0.827138    7075              5852.0               2\n",
              "61745    0.758309    6860              5202.0               2\n",
              "1310     0.824890    6139              5064.0               2\n",
              "60927    0.703764    6802              4787.0               2\n",
              "39532    0.807660    5875              4745.0               2\n",
              "81441    0.691420    6760              4674.0               2\n",
              "62674    0.739875    6074              4494.0               2\n",
              "23487    0.718338    5993              4305.0               2\n",
              "25886    0.757791    5070              3842.0               2\n",
              "45455    0.795031    4669              3712.0               2\n",
              "14450    0.759313    4832              3669.0               2\n",
              "68110    0.812939    4127              3355.0               2\n",
              "78787    0.752253    4327              3255.0               2\n",
              "21349    0.724641    4111              2979.0               2\n",
              "68587    0.775940    3749              2909.0               2\n",
              "43312    0.826507    3516              2906.0               2\n",
              "77185    0.832467    3462              2882.0               2\n",
              "11629    0.787837    3634              2863.0               2\n",
              "502      0.833088    3391              2825.0               2\n",
              "94620    0.763893    3617              2763.0               2\n",
              "108945   0.695817    3968              2761.0               2\n",
              "3424     0.690895    3976              2747.0               2\n",
              "49686    0.694947    3760              2613.0               2\n",
              "9804     0.783833    3303              2589.0               2\n",
              "11480    0.726481    3561              2587.0               2\n",
              "7157     0.830953    3011              2502.0               2\n",
              "93116    0.742246    3321              2465.0               2\n",
              "45351    0.747786    3275              2449.0               2\n",
              "47602    0.674699    3569              2408.0               2\n",
              "30066    0.786689    3005              2364.0               2\n",
              "20099    0.790454    2954              2335.0               2\n",
              "30454    0.699118    3287              2298.0               2\n",
              "18047    0.806567    2802              2260.0               2\n",
              "1421     0.832400    2679              2230.0               2\n",
              "8199     0.761173    2864              2180.0               2\n",
              "108023   0.686794    3097              2127.0               2\n",
              "18429    0.803936    2642              2124.0               2\n",
              "8701     0.719379    2833              2038.0               2\n",
              "8640     0.798194    2547              2033.0               2\n",
              "74385    0.671587    2981              2002.0               2\n",
              "102317   0.817420    2388              1952.0               2\n",
              "91135    0.769565    2530              1947.0               2\n",
              "104992   0.733032    2652              1944.0               2\n",
              "7831     0.838261    2300              1928.0               2\n",
              "20920    0.702190    2740              1924.0               2\n",
              "98961    0.734935    2456              1805.0               2"
            ]
          },
          "metadata": {},
          "execution_count": 36
        }
      ]
    },
    {
      "cell_type": "code",
      "metadata": {
        "colab": {
          "base_uri": "https://localhost:8080/",
          "height": 772
        },
        "id": "Jb7CRZyZMI1m",
        "outputId": "5114c8d1-faf4-49d6-d62f-90c1d25a9779"
      },
      "source": [
        "#plot the betweenness x homophily\n",
        "\n",
        "import matplotlib.pyplot as plt\n",
        "import pandas as pd\n",
        "import numpy as np\n",
        "enriched_superspreaders_df = pd.read_csv('gdrive/MyDrive/Privat/Master Thesis Data/superspreaders_49_II.csv', index_col=0)\n",
        "enriched_superspreaders_df[\"Betweenness_std\"] = (enriched_superspreaders_df[\"Betweenness\"] - np.mean(enriched_superspreaders_df[\"Betweenness\"]))/np.std(enriched_superspreaders_df[\"Betweenness\"])\n",
        "enriched_superspreaders_df[\"Betweenness_norm\"] = (enriched_superspreaders_df[\"Betweenness\"] - np.min(enriched_superspreaders_df[\"Betweenness\"]))/(np.max(enriched_superspreaders_df[\"Betweenness\"])- np.min(enriched_superspreaders_df[\"Betweenness\"]))\n",
        "\n",
        "\n",
        "plt.figure(figsize=(15,11))\n",
        "plt.title('betweenness x homophily', fontsize=50)\n",
        "plt.xlabel('Homophily', fontsize=40)\n",
        "plt.ylabel('Betweenness', fontsize=40)\n",
        "plt.xticks(fontsize=30)\n",
        "plt.yticks(fontsize=30)\n",
        "scatter_colors = np.where(enriched_superspreaders_df['User_Community']==2,'orange','grey')\n",
        "\n",
        "plt.scatter( enriched_superspreaders_df.Homophily, enriched_superspreaders_df.Betweenness, c=scatter_colors)"
      ],
      "execution_count": null,
      "outputs": [
        {
          "output_type": "execute_result",
          "data": {
            "text/plain": [
              "<matplotlib.collections.PathCollection at 0x7fd7c8865310>"
            ]
          },
          "metadata": {},
          "execution_count": 28
        },
        {
          "output_type": "display_data",
          "data": {
            "image/png": "[encoded data removed]",
            "text/plain": [
              "<Figure size 1080x792 with 1 Axes>"
            ]
          },
          "metadata": {
            "needs_background": "light"
          }
        }
      ]
    },
    {
      "cell_type": "code",
      "metadata": {
        "colab": {
          "base_uri": "https://localhost:8080/",
          "height": 263
        },
        "id": "116EZdm_q8DU",
        "outputId": "8233a99f-d2a2-4505-82a1-67162da0155b"
      },
      "source": [
        "#Histogram of homophily distribution in the dataset\n",
        "plt.hist(all_vertices_df[\"Homophily\"], bins=10, color='#000B3D', edgecolor='white', linewidth=1.2 )\n",
        "plt.show()"
      ],
      "execution_count": null,
      "outputs": [
        {
          "output_type": "display_data",
          "data": {
            "image/png": "[encoded data removed]",
            "text/plain": [
              "<Figure size 432x288 with 1 Axes>"
            ]
          },
          "metadata": {
            "needs_background": "light"
          }
        }
      ]
    },
    {
      "cell_type": "code",
      "metadata": {
        "colab": {
          "base_uri": "https://localhost:8080/",
          "height": 280
        },
        "id": "fVnUs7vS9guy",
        "outputId": "8c4b436d-3f86-4440-f1ec-73b6b2efd9f4"
      },
      "source": [
        "# histogram of homophily * degree\n",
        "(enriched_superspreaders_df[\"Homophily\"] * enriched_superspreaders_df[\"Degree\"]).hist()"
      ],
      "execution_count": null,
      "outputs": [
        {
          "output_type": "execute_result",
          "data": {
            "text/plain": [
              "<matplotlib.axes._subplots.AxesSubplot at 0x7f4b73a89b90>"
            ]
          },
          "metadata": {},
          "execution_count": 51
        },
        {
          "output_type": "display_data",
          "data": {
            "image/png": "[encoded data removed]",
            "text/plain": [
              "<Figure size 432x288 with 1 Axes>"
            ]
          },
          "metadata": {
            "needs_background": "light"
          }
        }
      ]
    },
    {
      "cell_type": "code",
      "metadata": {
        "colab": {
          "base_uri": "https://localhost:8080/",
          "height": 772
        },
        "id": "K7PlByzJIK3z",
        "outputId": "fe1424be-6bb6-47ca-bed4-f2639415d70b"
      },
      "source": [
        "#scatter plot showcasing the nodes and their degree\n",
        "plt.figure(figsize=(15,11))\n",
        "plt.title('Homophily x Degree', fontsize=50)\n",
        "plt.xlabel('Homophily', fontsize=40)\n",
        "plt.ylabel('Degree', fontsize=40)\n",
        "plt.xticks(fontsize=30)\n",
        "plt.yticks(fontsize=30)\n",
        "#Horizontal line code\n",
        "plt.axhline(y=250, color='#000B3D', linestyle=':')\n",
        "scatter_colors = np.where(all_vertices_df['User_Community']==2,'orange','grey')\n",
        "\n",
        "#scatter_colors = np.where(all_vertices_df['Homophily_X_Degree']>=1000,'g','grey')\n",
        "\n",
        "plt.scatter( all_vertices_df.Homophily, all_vertices_df.Degree, c=scatter_colors)"
      ],
      "execution_count": null,
      "outputs": [
        {
          "output_type": "execute_result",
          "data": {
            "text/plain": [
              "<matplotlib.collections.PathCollection at 0x7f1fdecd8bd0>"
            ]
          },
          "metadata": {},
          "execution_count": 38
        },
        {
          "output_type": "display_data",
          "data": {
            "image/png": "[encoded data removed]",
            "text/plain": [
              "<Figure size 1080x792 with 1 Axes>"
            ]
          },
          "metadata": {
            "needs_background": "light"
          }
        }
      ]
    },
    {
      "cell_type": "markdown",
      "metadata": {
        "id": "0DSTE59tMzvm"
      },
      "source": [
        "# Deeper information enriching\n",
        "- Manual information enriching for the top-betweenness nodes\n",
        "- Used to figure out:\n",
        "  - activity status\n",
        "  - names of top-users\n",
        "  - number of tweets per day\n",
        "  - specific tweet contents\n",
        "- Has to be manually triggered for the various users"
      ]
    },
    {
      "cell_type": "code",
      "metadata": {
        "colab": {
          "base_uri": "https://localhost:8080/",
          "height": 131
        },
        "id": "dAf3SLmwRzhv",
        "outputId": "78565a3f-9382-4e2b-e97b-b0a7f10a4846"
      },
      "source": [
        "#finding the correct user community\n",
        "user_df.loc[user_df['user_id'] == 1092086942198452224]"
      ],
      "execution_count": null,
      "outputs": [
        {
          "output_type": "execute_result",
          "data": {
            "text/html": [
              "<div>\n",
              "<style scoped>\n",
              "    .dataframe tbody tr th:only-of-type {\n",
              "        vertical-align: middle;\n",
              "    }\n",
              "\n",
              "    .dataframe tbody tr th {\n",
              "        vertical-align: top;\n",
              "    }\n",
              "\n",
              "    .dataframe thead th {\n",
              "        text-align: right;\n",
              "    }\n",
              "</style>\n",
              "<table border=\"1\" class=\"dataframe\">\n",
              "  <thead>\n",
              "    <tr style=\"text-align: right;\">\n",
              "      <th></th>\n",
              "      <th>user_id</th>\n",
              "      <th>user_community</th>\n",
              "      <th>user_active_status</th>\n",
              "      <th>closeness_centrality_detractor_cluster</th>\n",
              "      <th>closeness_centrality_promoter_cluster</th>\n",
              "      <th>retweet_count_by_community_0</th>\n",
              "      <th>quote_count_by_community_0</th>\n",
              "      <th>retweet_count_by_community_1</th>\n",
              "      <th>quote_count_by_community_1</th>\n",
              "      <th>retweet_count_by_community_2</th>\n",
              "      <th>quote_count_by_community_2</th>\n",
              "      <th>retweet_count_by_community_3</th>\n",
              "      <th>quote_count_by_community_3</th>\n",
              "      <th>retweet_count_by_community_4</th>\n",
              "      <th>quote_count_by_community_4</th>\n",
              "      <th>retweet_count_by_suspended_users</th>\n",
              "      <th>quote_count_by_suspended_users</th>\n",
              "      <th>name</th>\n",
              "      <th>handle</th>\n",
              "      <th>created_at</th>\n",
              "      <th>verified</th>\n",
              "      <th>description</th>\n",
              "      <th>followers_count</th>\n",
              "      <th>location</th>\n",
              "    </tr>\n",
              "  </thead>\n",
              "  <tbody>\n",
              "    <tr>\n",
              "      <th>86403</th>\n",
              "      <td>1092086942198452224</td>\n",
              "      <td>2.0</td>\n",
              "      <td>suspended</td>\n",
              "      <td>NaN</td>\n",
              "      <td>0.2513</td>\n",
              "      <td>9</td>\n",
              "      <td>9</td>\n",
              "      <td>35</td>\n",
              "      <td>58</td>\n",
              "      <td>15947</td>\n",
              "      <td>1406</td>\n",
              "      <td>6</td>\n",
              "      <td>0</td>\n",
              "      <td>6</td>\n",
              "      <td>1</td>\n",
              "      <td>6093</td>\n",
              "      <td>403</td>\n",
              "      <td>🌟🌟Rooster⭐️⭐️</td>\n",
              "      <td>no_silenced</td>\n",
              "      <td>2019-02-03T15:46:31Z</td>\n",
              "      <td>False</td>\n",
              "      <td>Followed by👉 @Pam_Sands...My bestie♥️\\n\\nFollo...</td>\n",
              "      <td>105830.0</td>\n",
              "      <td>NaN</td>\n",
              "    </tr>\n",
              "  </tbody>\n",
              "</table>\n",
              "</div>"
            ],
            "text/plain": [
              "                   user_id  user_community  ... followers_count  location\n",
              "86403  1092086942198452224             2.0  ...        105830.0       NaN\n",
              "\n",
              "[1 rows x 24 columns]"
            ]
          },
          "metadata": {},
          "execution_count": 19
        }
      ]
    },
    {
      "cell_type": "code",
      "metadata": {
        "id": "uWTdAQN-fMgu"
      },
      "source": [
        "tweet_df.loc[tweet_df['user_id'] == \"1092086942198452224\"].head(1)"
      ],
      "execution_count": null,
      "outputs": []
    },
    {
      "cell_type": "code",
      "metadata": {
        "colab": {
          "base_uri": "https://localhost:8080/",
          "height": 50
        },
        "id": "uN7cQjTwUadg",
        "outputId": "8b27a1ac-7c83-4963-ad7f-9afc8dd91fdd"
      },
      "source": [
        "#to copy specific full texts of a tweet made by a user\n",
        "tweet_df.loc[tweet_df['user_id'] == \"16585101\"]['text'][120429]"
      ],
      "execution_count": null,
      "outputs": [
        {
          "output_type": "execute_result",
          "data": {
            "application/vnd.google.colaboratory.intrinsic+json": {
              "type": "string"
            },
            "text/plain": [
              "'@TheDemocrats USED CORRUPT SOFTWARE TO CHEAT WE THE PPL OUT OF OUR #vote  #TrumpIsMyPresident PERIOD‼️ @GOP @JudiciaryGOP @SenateGOP @WhiteHouse #StopTheCheating #STOPTHESTEAL https://t.co/L9cVnoJje2'"
            ]
          },
          "metadata": {},
          "execution_count": 71
        }
      ]
    },
    {
      "cell_type": "code",
      "metadata": {
        "colab": {
          "base_uri": "https://localhost:8080/",
          "height": 1000
        },
        "id": "quW5dR4XjpAf",
        "outputId": "663eb7ad-107d-4f30-ee96-b179a8c530f4"
      },
      "source": [
        "# number of tweets per day made by a specific user\n",
        "# manual export is necessary\n",
        "top3_tweet_df = tweet_df.loc[tweet_df['user_id'] == \"2922345639\"]\n",
        "top3_tweet_df = top3_tweet_df[['user_id', 'timestamp']]\n",
        "\n",
        "top3_tweet_df['Date'] = top3_tweet_df['timestamp'].str[:10]\n",
        "top3_tweet_df.drop(columns='timestamp', inplace=True)\n",
        "top3_tweet_df['Counts'] = top3_tweet_df.groupby('Date')['user_id'].transform('count')\n",
        "top3_tweet_df.drop_duplicates(subset ='Date', keep='first', inplace = True)\n",
        "\n",
        "top3_tweet_df.sort_values(by ='Date', ascending=True)"
      ],
      "execution_count": null,
      "outputs": [
        {
          "output_type": "execute_result",
          "data": {
            "text/html": [
              "<div>\n",
              "<style scoped>\n",
              "    .dataframe tbody tr th:only-of-type {\n",
              "        vertical-align: middle;\n",
              "    }\n",
              "\n",
              "    .dataframe tbody tr th {\n",
              "        vertical-align: top;\n",
              "    }\n",
              "\n",
              "    .dataframe thead th {\n",
              "        text-align: right;\n",
              "    }\n",
              "</style>\n",
              "<table border=\"1\" class=\"dataframe\">\n",
              "  <thead>\n",
              "    <tr style=\"text-align: right;\">\n",
              "      <th></th>\n",
              "      <th>user_id</th>\n",
              "      <th>Date</th>\n",
              "      <th>Counts</th>\n",
              "    </tr>\n",
              "  </thead>\n",
              "  <tbody>\n",
              "    <tr>\n",
              "      <th>76782</th>\n",
              "      <td>2922345639</td>\n",
              "      <td>2020-11-03</td>\n",
              "      <td>1</td>\n",
              "    </tr>\n",
              "    <tr>\n",
              "      <th>24003</th>\n",
              "      <td>2922345639</td>\n",
              "      <td>2020-11-04</td>\n",
              "      <td>28</td>\n",
              "    </tr>\n",
              "    <tr>\n",
              "      <th>19849</th>\n",
              "      <td>2922345639</td>\n",
              "      <td>2020-11-05</td>\n",
              "      <td>18</td>\n",
              "    </tr>\n",
              "    <tr>\n",
              "      <th>4293</th>\n",
              "      <td>2922345639</td>\n",
              "      <td>2020-11-06</td>\n",
              "      <td>73</td>\n",
              "    </tr>\n",
              "    <tr>\n",
              "      <th>1533</th>\n",
              "      <td>2922345639</td>\n",
              "      <td>2020-11-07</td>\n",
              "      <td>113</td>\n",
              "    </tr>\n",
              "    <tr>\n",
              "      <th>7946</th>\n",
              "      <td>2922345639</td>\n",
              "      <td>2020-11-08</td>\n",
              "      <td>12</td>\n",
              "    </tr>\n",
              "    <tr>\n",
              "      <th>103797</th>\n",
              "      <td>2922345639</td>\n",
              "      <td>2020-11-09</td>\n",
              "      <td>6</td>\n",
              "    </tr>\n",
              "    <tr>\n",
              "      <th>1919</th>\n",
              "      <td>2922345639</td>\n",
              "      <td>2020-11-10</td>\n",
              "      <td>2</td>\n",
              "    </tr>\n",
              "    <tr>\n",
              "      <th>7100</th>\n",
              "      <td>2922345639</td>\n",
              "      <td>2020-11-11</td>\n",
              "      <td>11</td>\n",
              "    </tr>\n",
              "    <tr>\n",
              "      <th>24222</th>\n",
              "      <td>2922345639</td>\n",
              "      <td>2020-11-12</td>\n",
              "      <td>2</td>\n",
              "    </tr>\n",
              "    <tr>\n",
              "      <th>145388</th>\n",
              "      <td>2922345639</td>\n",
              "      <td>2020-11-13</td>\n",
              "      <td>1</td>\n",
              "    </tr>\n",
              "    <tr>\n",
              "      <th>90647</th>\n",
              "      <td>2922345639</td>\n",
              "      <td>2020-11-14</td>\n",
              "      <td>5</td>\n",
              "    </tr>\n",
              "    <tr>\n",
              "      <th>30462</th>\n",
              "      <td>2922345639</td>\n",
              "      <td>2020-11-15</td>\n",
              "      <td>10</td>\n",
              "    </tr>\n",
              "    <tr>\n",
              "      <th>90032</th>\n",
              "      <td>2922345639</td>\n",
              "      <td>2020-11-16</td>\n",
              "      <td>2</td>\n",
              "    </tr>\n",
              "    <tr>\n",
              "      <th>76702</th>\n",
              "      <td>2922345639</td>\n",
              "      <td>2020-11-17</td>\n",
              "      <td>2</td>\n",
              "    </tr>\n",
              "    <tr>\n",
              "      <th>6444</th>\n",
              "      <td>2922345639</td>\n",
              "      <td>2020-11-18</td>\n",
              "      <td>2</td>\n",
              "    </tr>\n",
              "    <tr>\n",
              "      <th>70600</th>\n",
              "      <td>2922345639</td>\n",
              "      <td>2020-11-19</td>\n",
              "      <td>3</td>\n",
              "    </tr>\n",
              "    <tr>\n",
              "      <th>23697</th>\n",
              "      <td>2922345639</td>\n",
              "      <td>2020-11-20</td>\n",
              "      <td>4</td>\n",
              "    </tr>\n",
              "    <tr>\n",
              "      <th>15620</th>\n",
              "      <td>2922345639</td>\n",
              "      <td>2020-11-21</td>\n",
              "      <td>10</td>\n",
              "    </tr>\n",
              "    <tr>\n",
              "      <th>74859</th>\n",
              "      <td>2922345639</td>\n",
              "      <td>2020-11-22</td>\n",
              "      <td>3</td>\n",
              "    </tr>\n",
              "    <tr>\n",
              "      <th>79538</th>\n",
              "      <td>2922345639</td>\n",
              "      <td>2020-11-23</td>\n",
              "      <td>2</td>\n",
              "    </tr>\n",
              "    <tr>\n",
              "      <th>59042</th>\n",
              "      <td>2922345639</td>\n",
              "      <td>2020-11-24</td>\n",
              "      <td>1</td>\n",
              "    </tr>\n",
              "    <tr>\n",
              "      <th>85065</th>\n",
              "      <td>2922345639</td>\n",
              "      <td>2020-11-25</td>\n",
              "      <td>3</td>\n",
              "    </tr>\n",
              "    <tr>\n",
              "      <th>70882</th>\n",
              "      <td>2922345639</td>\n",
              "      <td>2020-11-27</td>\n",
              "      <td>2</td>\n",
              "    </tr>\n",
              "    <tr>\n",
              "      <th>18162</th>\n",
              "      <td>2922345639</td>\n",
              "      <td>2020-11-28</td>\n",
              "      <td>3</td>\n",
              "    </tr>\n",
              "    <tr>\n",
              "      <th>2904</th>\n",
              "      <td>2922345639</td>\n",
              "      <td>2020-11-29</td>\n",
              "      <td>4</td>\n",
              "    </tr>\n",
              "    <tr>\n",
              "      <th>104619</th>\n",
              "      <td>2922345639</td>\n",
              "      <td>2020-11-30</td>\n",
              "      <td>24</td>\n",
              "    </tr>\n",
              "    <tr>\n",
              "      <th>142</th>\n",
              "      <td>2922345639</td>\n",
              "      <td>2020-12-01</td>\n",
              "      <td>25</td>\n",
              "    </tr>\n",
              "    <tr>\n",
              "      <th>24129</th>\n",
              "      <td>2922345639</td>\n",
              "      <td>2020-12-02</td>\n",
              "      <td>15</td>\n",
              "    </tr>\n",
              "    <tr>\n",
              "      <th>14012</th>\n",
              "      <td>2922345639</td>\n",
              "      <td>2020-12-03</td>\n",
              "      <td>10</td>\n",
              "    </tr>\n",
              "    <tr>\n",
              "      <th>4597</th>\n",
              "      <td>2922345639</td>\n",
              "      <td>2020-12-04</td>\n",
              "      <td>9</td>\n",
              "    </tr>\n",
              "    <tr>\n",
              "      <th>15550</th>\n",
              "      <td>2922345639</td>\n",
              "      <td>2020-12-05</td>\n",
              "      <td>8</td>\n",
              "    </tr>\n",
              "    <tr>\n",
              "      <th>69420</th>\n",
              "      <td>2922345639</td>\n",
              "      <td>2020-12-06</td>\n",
              "      <td>4</td>\n",
              "    </tr>\n",
              "    <tr>\n",
              "      <th>51226</th>\n",
              "      <td>2922345639</td>\n",
              "      <td>2020-12-07</td>\n",
              "      <td>15</td>\n",
              "    </tr>\n",
              "    <tr>\n",
              "      <th>8775</th>\n",
              "      <td>2922345639</td>\n",
              "      <td>2020-12-08</td>\n",
              "      <td>10</td>\n",
              "    </tr>\n",
              "    <tr>\n",
              "      <th>5156</th>\n",
              "      <td>2922345639</td>\n",
              "      <td>2020-12-09</td>\n",
              "      <td>7</td>\n",
              "    </tr>\n",
              "    <tr>\n",
              "      <th>62330</th>\n",
              "      <td>2922345639</td>\n",
              "      <td>2020-12-10</td>\n",
              "      <td>4</td>\n",
              "    </tr>\n",
              "    <tr>\n",
              "      <th>8098</th>\n",
              "      <td>2922345639</td>\n",
              "      <td>2020-12-11</td>\n",
              "      <td>2</td>\n",
              "    </tr>\n",
              "    <tr>\n",
              "      <th>50605</th>\n",
              "      <td>2922345639</td>\n",
              "      <td>2020-12-12</td>\n",
              "      <td>9</td>\n",
              "    </tr>\n",
              "    <tr>\n",
              "      <th>37522</th>\n",
              "      <td>2922345639</td>\n",
              "      <td>2020-12-13</td>\n",
              "      <td>6</td>\n",
              "    </tr>\n",
              "    <tr>\n",
              "      <th>6551</th>\n",
              "      <td>2922345639</td>\n",
              "      <td>2020-12-14</td>\n",
              "      <td>3</td>\n",
              "    </tr>\n",
              "    <tr>\n",
              "      <th>11122</th>\n",
              "      <td>2922345639</td>\n",
              "      <td>2020-12-15</td>\n",
              "      <td>8</td>\n",
              "    </tr>\n",
              "    <tr>\n",
              "      <th>11703</th>\n",
              "      <td>2922345639</td>\n",
              "      <td>2020-12-16</td>\n",
              "      <td>4</td>\n",
              "    </tr>\n",
              "  </tbody>\n",
              "</table>\n",
              "</div>"
            ],
            "text/plain": [
              "           user_id        Date  Counts\n",
              "76782   2922345639  2020-11-03       1\n",
              "24003   2922345639  2020-11-04      28\n",
              "19849   2922345639  2020-11-05      18\n",
              "4293    2922345639  2020-11-06      73\n",
              "1533    2922345639  2020-11-07     113\n",
              "7946    2922345639  2020-11-08      12\n",
              "103797  2922345639  2020-11-09       6\n",
              "1919    2922345639  2020-11-10       2\n",
              "7100    2922345639  2020-11-11      11\n",
              "24222   2922345639  2020-11-12       2\n",
              "145388  2922345639  2020-11-13       1\n",
              "90647   2922345639  2020-11-14       5\n",
              "30462   2922345639  2020-11-15      10\n",
              "90032   2922345639  2020-11-16       2\n",
              "76702   2922345639  2020-11-17       2\n",
              "6444    2922345639  2020-11-18       2\n",
              "70600   2922345639  2020-11-19       3\n",
              "23697   2922345639  2020-11-20       4\n",
              "15620   2922345639  2020-11-21      10\n",
              "74859   2922345639  2020-11-22       3\n",
              "79538   2922345639  2020-11-23       2\n",
              "59042   2922345639  2020-11-24       1\n",
              "85065   2922345639  2020-11-25       3\n",
              "70882   2922345639  2020-11-27       2\n",
              "18162   2922345639  2020-11-28       3\n",
              "2904    2922345639  2020-11-29       4\n",
              "104619  2922345639  2020-11-30      24\n",
              "142     2922345639  2020-12-01      25\n",
              "24129   2922345639  2020-12-02      15\n",
              "14012   2922345639  2020-12-03      10\n",
              "4597    2922345639  2020-12-04       9\n",
              "15550   2922345639  2020-12-05       8\n",
              "69420   2922345639  2020-12-06       4\n",
              "51226   2922345639  2020-12-07      15\n",
              "8775    2922345639  2020-12-08      10\n",
              "5156    2922345639  2020-12-09       7\n",
              "62330   2922345639  2020-12-10       4\n",
              "8098    2922345639  2020-12-11       2\n",
              "50605   2922345639  2020-12-12       9\n",
              "37522   2922345639  2020-12-13       6\n",
              "6551    2922345639  2020-12-14       3\n",
              "11122   2922345639  2020-12-15       8\n",
              "11703   2922345639  2020-12-16       4"
            ]
          },
          "metadata": {},
          "execution_count": 112
        }
      ]
    },
    {
      "cell_type": "markdown",
      "metadata": {
        "id": "Vegj1oHnnt7_"
      },
      "source": [
        "# Gephi Visualization\n",
        "- Preparing the data of the graph for an export to gephi\n",
        "- preparing a csv containing all vertices and a csv containing all edges"
      ]
    },
    {
      "cell_type": "code",
      "metadata": {
        "colab": {
          "base_uri": "https://localhost:8080/"
        },
        "id": "T2C3NWLC88hO",
        "outputId": "dd0f182d-8f75-4d87-bd9a-0a0791c58ee6"
      },
      "source": [
        "nodes = pd.DataFrame(data = (g.vs, g.vs['name'], g.vs['user_community']))\n",
        "print(\"The number of nodes:\",len(nodes))"
      ],
      "execution_count": null,
      "outputs": [
        {
          "name": "stdout",
          "output_type": "stream",
          "text": [
            "The number of nodes: 3\n"
          ]
        }
      ]
    },
    {
      "cell_type": "code",
      "metadata": {
        "id": "9jVyDiG8-37Y"
      },
      "source": [
        "#write nodes list to a df\n",
        "node_export_df = pd.DataFrame({attr: g.vs[attr] for attr in g.vertex_attributes()})\n",
        "\n",
        "#write nodes df into a csv\n",
        "node_export_df.to_csv(r'gdrive/MyDrive/Privat/Master Thesis Data/nodesIV.csv', index= None, header = (['Id'], ['Label']))"
      ],
      "execution_count": null,
      "outputs": []
    },
    {
      "cell_type": "code",
      "metadata": {
        "colab": {
          "base_uri": "https://localhost:8080/",
          "height": 419
        },
        "id": "lTuSlsNPuKxP",
        "outputId": "0568c1b1-d615-410c-bf4e-180a101d7d51"
      },
      "source": [
        "node_export_df"
      ],
      "execution_count": null,
      "outputs": [
        {
          "data": {
            "text/html": [
              "<div>\n",
              "<style scoped>\n",
              "    .dataframe tbody tr th:only-of-type {\n",
              "        vertical-align: middle;\n",
              "    }\n",
              "\n",
              "    .dataframe tbody tr th {\n",
              "        vertical-align: top;\n",
              "    }\n",
              "\n",
              "    .dataframe thead th {\n",
              "        text-align: right;\n",
              "    }\n",
              "</style>\n",
              "<table border=\"1\" class=\"dataframe\">\n",
              "  <thead>\n",
              "    <tr style=\"text-align: right;\">\n",
              "      <th></th>\n",
              "      <th>name</th>\n",
              "      <th>user_community</th>\n",
              "    </tr>\n",
              "  </thead>\n",
              "  <tbody>\n",
              "    <tr>\n",
              "      <th>0</th>\n",
              "      <td>224</td>\n",
              "      <td>2</td>\n",
              "    </tr>\n",
              "    <tr>\n",
              "      <th>1</th>\n",
              "      <td>767</td>\n",
              "      <td>2</td>\n",
              "    </tr>\n",
              "    <tr>\n",
              "      <th>2</th>\n",
              "      <td>785</td>\n",
              "      <td>2</td>\n",
              "    </tr>\n",
              "    <tr>\n",
              "      <th>3</th>\n",
              "      <td>1497</td>\n",
              "      <td>2</td>\n",
              "    </tr>\n",
              "    <tr>\n",
              "      <th>4</th>\n",
              "      <td>2426</td>\n",
              "      <td>2</td>\n",
              "    </tr>\n",
              "    <tr>\n",
              "      <th>...</th>\n",
              "      <td>...</td>\n",
              "      <td>...</td>\n",
              "    </tr>\n",
              "    <tr>\n",
              "      <th>152492</th>\n",
              "      <td>1335586312666161153</td>\n",
              "      <td>0</td>\n",
              "    </tr>\n",
              "    <tr>\n",
              "      <th>152493</th>\n",
              "      <td>1335608852818128898</td>\n",
              "      <td>0</td>\n",
              "    </tr>\n",
              "    <tr>\n",
              "      <th>152494</th>\n",
              "      <td>1335629836308656136</td>\n",
              "      <td>0</td>\n",
              "    </tr>\n",
              "    <tr>\n",
              "      <th>152495</th>\n",
              "      <td>1335661163821080580</td>\n",
              "      <td>0</td>\n",
              "    </tr>\n",
              "    <tr>\n",
              "      <th>152496</th>\n",
              "      <td>1335715574828191747</td>\n",
              "      <td>0</td>\n",
              "    </tr>\n",
              "  </tbody>\n",
              "</table>\n",
              "<p>152497 rows × 2 columns</p>\n",
              "</div>"
            ],
            "text/plain": [
              "                       name  user_community\n",
              "0                       224               2\n",
              "1                       767               2\n",
              "2                       785               2\n",
              "3                      1497               2\n",
              "4                      2426               2\n",
              "...                     ...             ...\n",
              "152492  1335586312666161153               0\n",
              "152493  1335608852818128898               0\n",
              "152494  1335629836308656136               0\n",
              "152495  1335661163821080580               0\n",
              "152496  1335715574828191747               0\n",
              "\n",
              "[152497 rows x 2 columns]"
            ]
          },
          "execution_count": 110,
          "metadata": {},
          "output_type": "execute_result"
        }
      ]
    },
    {
      "cell_type": "code",
      "metadata": {
        "id": "QfGmCsK_mlee"
      },
      "source": [
        "#write edge list to a df\n",
        "edges_export_df = pd.DataFrame({attr: g.es[attr] for attr in g.edge_attributes()})\n",
        "edges_export_df['Type']= 'Directed'\n",
        "edges_export_df['Weight']= 1\n",
        "#edges_export_df.drop(['retweet_id'])\n",
        "edges_export_df = edges_export_df[['Source','Target', 'Type', 'Weight']]\n",
        "#export edge df into a csv\n",
        "edges_export_df.to_csv(r'gdrive/MyDrive/Privat/Master Thesis Data/edgesIV.csv', index = False)"
      ],
      "execution_count": null,
      "outputs": []
    },
    {
      "cell_type": "code",
      "metadata": {
        "colab": {
          "base_uri": "https://localhost:8080/",
          "height": 419
        },
        "id": "s2CFnqBe1klO",
        "outputId": "d40ee04c-fb4b-4f2f-d406-378410c99072"
      },
      "source": [
        "display(edges_export_df)"
      ],
      "execution_count": null,
      "outputs": [
        {
          "data": {
            "text/html": [
              "<div>\n",
              "<style scoped>\n",
              "    .dataframe tbody tr th:only-of-type {\n",
              "        vertical-align: middle;\n",
              "    }\n",
              "\n",
              "    .dataframe tbody tr th {\n",
              "        vertical-align: top;\n",
              "    }\n",
              "\n",
              "    .dataframe thead th {\n",
              "        text-align: right;\n",
              "    }\n",
              "</style>\n",
              "<table border=\"1\" class=\"dataframe\">\n",
              "  <thead>\n",
              "    <tr style=\"text-align: right;\">\n",
              "      <th></th>\n",
              "      <th>Source</th>\n",
              "      <th>Target</th>\n",
              "      <th>Type</th>\n",
              "      <th>Weight</th>\n",
              "    </tr>\n",
              "  </thead>\n",
              "  <tbody>\n",
              "    <tr>\n",
              "      <th>0</th>\n",
              "      <td>394392730</td>\n",
              "      <td>4710708974</td>\n",
              "      <td>Directed</td>\n",
              "      <td>1</td>\n",
              "    </tr>\n",
              "    <tr>\n",
              "      <th>1</th>\n",
              "      <td>394392730</td>\n",
              "      <td>2618797484</td>\n",
              "      <td>Directed</td>\n",
              "      <td>1</td>\n",
              "    </tr>\n",
              "    <tr>\n",
              "      <th>2</th>\n",
              "      <td>394392730</td>\n",
              "      <td>116384038</td>\n",
              "      <td>Directed</td>\n",
              "      <td>1</td>\n",
              "    </tr>\n",
              "    <tr>\n",
              "      <th>3</th>\n",
              "      <td>394392730</td>\n",
              "      <td>814945374209064960</td>\n",
              "      <td>Directed</td>\n",
              "      <td>1</td>\n",
              "    </tr>\n",
              "    <tr>\n",
              "      <th>4</th>\n",
              "      <td>394392730</td>\n",
              "      <td>1153305068201885699</td>\n",
              "      <td>Directed</td>\n",
              "      <td>1</td>\n",
              "    </tr>\n",
              "    <tr>\n",
              "      <th>...</th>\n",
              "      <td>...</td>\n",
              "      <td>...</td>\n",
              "      <td>...</td>\n",
              "      <td>...</td>\n",
              "    </tr>\n",
              "    <tr>\n",
              "      <th>995241</th>\n",
              "      <td>937763899595804672</td>\n",
              "      <td>937763899595804672</td>\n",
              "      <td>Directed</td>\n",
              "      <td>1</td>\n",
              "    </tr>\n",
              "    <tr>\n",
              "      <th>995242</th>\n",
              "      <td>116346476</td>\n",
              "      <td>2448277020</td>\n",
              "      <td>Directed</td>\n",
              "      <td>1</td>\n",
              "    </tr>\n",
              "    <tr>\n",
              "      <th>995243</th>\n",
              "      <td>3085905175</td>\n",
              "      <td>3085905175</td>\n",
              "      <td>Directed</td>\n",
              "      <td>1</td>\n",
              "    </tr>\n",
              "    <tr>\n",
              "      <th>995244</th>\n",
              "      <td>317209517</td>\n",
              "      <td>317209517</td>\n",
              "      <td>Directed</td>\n",
              "      <td>1</td>\n",
              "    </tr>\n",
              "    <tr>\n",
              "      <th>995245</th>\n",
              "      <td>302404382</td>\n",
              "      <td>302404382</td>\n",
              "      <td>Directed</td>\n",
              "      <td>1</td>\n",
              "    </tr>\n",
              "  </tbody>\n",
              "</table>\n",
              "<p>995246 rows × 4 columns</p>\n",
              "</div>"
            ],
            "text/plain": [
              "                    Source               Target      Type  Weight\n",
              "0                394392730           4710708974  Directed       1\n",
              "1                394392730           2618797484  Directed       1\n",
              "2                394392730            116384038  Directed       1\n",
              "3                394392730   814945374209064960  Directed       1\n",
              "4                394392730  1153305068201885699  Directed       1\n",
              "...                    ...                  ...       ...     ...\n",
              "995241  937763899595804672   937763899595804672  Directed       1\n",
              "995242           116346476           2448277020  Directed       1\n",
              "995243          3085905175           3085905175  Directed       1\n",
              "995244           317209517            317209517  Directed       1\n",
              "995245           302404382            302404382  Directed       1\n",
              "\n",
              "[995246 rows x 4 columns]"
            ]
          },
          "metadata": {},
          "output_type": "display_data"
        }
      ]
    },
    {
      "cell_type": "markdown",
      "metadata": {
        "id": "Ferf8OgHY4uj"
      },
      "source": [
        "# Unused (sometimes not working) calculations\n",
        "- storage for old code that is not effective anymore but might be used for code recycling\n",
        "- code that was built for specfific functions but did not perfectly work as intended (e.g. sled system to calculate betweenness). Also used for recycling code"
      ]
    },
    {
      "cell_type": "code",
      "metadata": {
        "id": "o4jc2PWo8VeA"
      },
      "source": [
        "#old code to retrieve betweenness for 2 vertices at a time\n",
        "\n",
        "#define manual calculator for betweenness per relevant node\n",
        "#build dictionary with vertex ID as key and betweenness as value\n",
        "#very long execution, thus manual triggering\n",
        "\n",
        "def manual_calc_betweenness(vertex, vertex2):\n",
        "  \n",
        "  temp_betweenness = { vertex : g.betweenness(vertices=vertex) }\n",
        "  betweenness_largest_vs[vertex] = temp_betweenness[vertex]\n",
        "  temp_betweenness = {}\n",
        "\n",
        "  temp_betweenness2 = { vertex2 : g.betweenness(vertices=vertex2) }\n",
        "  betweenness_largest_vs[vertex2] = temp_betweenness2[vertex2]\n",
        "  temp_betweenness2 = {}\n",
        "\n",
        "\n",
        "  #import csv of already calculated csv's to df\n",
        "  vertex_betweenness_ranked_df = pd.read_csv('gdrive/MyDrive/Privat/Master Thesis Data/betweenness_49.csv', index_col=0)\n",
        "  #append the new calculated betweenness values to the existing csv\n",
        "  vertex_betweenness_ranked_df = vertex_betweenness_ranked_df.append(pd.DataFrame.from_dict(data=betweenness_largest_vs, orient= 'index' , columns=[\"Betweenness\"]))\n",
        "  #write df into a csv in order to store it permanently\n",
        "  vertex_betweenness_ranked_df.to_csv(r'gdrive/MyDrive/Privat/Master Thesis Data/betweenness_49.csv', index = True)\n",
        "\n",
        "  return vertex_betweenness_ranked_df.tail(10)"
      ],
      "execution_count": null,
      "outputs": []
    },
    {
      "cell_type": "code",
      "metadata": {
        "id": "5vrLdyFsXtFK"
      },
      "source": [
        "#check if node betweenness has already been calculated\n",
        "#else: execute betweenness calculation\n",
        "#long execution --> 18 minutes for 1 nodes\n",
        "temp_node_csv =pd.read_csv('gdrive/MyDrive/Privat/Master Thesis Data/betweenness_49.csv', index_col=0)\n",
        "a = 127616\n",
        "b = 121523\n",
        "\n",
        "if a in temp_node_csv.index or b in temp_node_csv.index:\n",
        "  print(\"Node is already calculated\")\n",
        "else:\n",
        "  manual_calc_betweenness(a, b)\n",
        "  #print(vertex_betweenness_ranked_df.tail(10))"
      ],
      "execution_count": null,
      "outputs": []
    },
    {
      "cell_type": "code",
      "metadata": {
        "id": "nRuyXXhU1LDL"
      },
      "source": [
        "clusters = g.community_infomap()"
      ],
      "execution_count": null,
      "outputs": []
    },
    {
      "cell_type": "code",
      "metadata": {
        "colab": {
          "background_save": true
        },
        "id": "OeGMBPUZFany"
      },
      "source": [
        "dendrogram = g.community_fastgreedy()"
      ],
      "execution_count": null,
      "outputs": []
    },
    {
      "cell_type": "code",
      "metadata": {
        "colab": {
          "base_uri": "https://localhost:8080/"
        },
        "id": "5G2e3gYMocc9",
        "outputId": "fa514092-6cae-45ed-9a3e-f2f3d0c1c6d4"
      },
      "source": [
        "print(dendrogram)"
      ],
      "execution_count": null,
      "outputs": [
        {
          "name": "stdout",
          "output_type": "stream",
          "text": [
            "Dendrogram, 144625 elements, 142564 merges\n"
          ]
        }
      ]
    },
    {
      "cell_type": "code",
      "metadata": {
        "colab": {
          "base_uri": "https://localhost:8080/"
        },
        "id": "SuegS_3vBeRM",
        "outputId": "81e80357-cae5-48d8-a50f-6d94452a156a"
      },
      "source": [
        "# sled system to retrieve 1 vertex at a time and calculate its betweenness\n",
        "\n",
        "dict_index = 0\n",
        "largest_degrees_2 = {}\n",
        "\n",
        "\n",
        "for v in g.vs:\n",
        "  if v.degree() >= 4050:\n",
        "    largest_degrees_2.update({ (dict_index)  : {v.index : (v.degree(), v['user_community'])} })\n",
        "    dict_index +=1\n",
        "\n",
        "betweenness_from_sled = pd.DataFrame(columns=('Node', 'Degree', 'Community'))\n",
        "#betweenness_from_sled = pd.read_csv('gdrive/MyDrive/Privat/Master Thesis Data/betweennessIII.csv', index_col=0)\n",
        "\n",
        "def sled_betweenness_calc(Pos1, largest_degrees_0_2, betweenness_from_sled):\n",
        "  temp_sled_value = largest_degrees_0_2.get(Pos1)\n",
        "  temp_df_betweenness_sled = pd.DataFrame(columns=('Index', 'Node', 'Degree', 'Community') )\n",
        "  for vertex in temp_sled_value.keys():\n",
        "    temp_df_betweenness_sled = temp_df_betweenness_sled.append( {'Index': Pos1, 'Node': str(list(temp_sled_value.keys())[0]), 'Degree': list(temp_sled_value.values())[0][0], 'Community': list(temp_sled_value.values())[0][1]}, ignore_index=True)\n",
        "    temp_df_betweenness_sled = temp_df_betweenness_sled.set_index('Index')\n",
        "\n",
        "    #betweenness_from_sled = pd.read_csv('gdrive/MyDrive/Privat/Master Thesis Data/betweennessIII.csv', index_col=0)\n",
        "    betweenness_from_sled = betweenness_from_sled.append(temp_df_betweenness_sled, ignore_index=False)\n",
        "    betweenness_from_sled.to_csv(r'gdrive/MyDrive/Privat/Master Thesis Data/betweennessIII.csv', index = True, mode= 'a')\n",
        "\n",
        "  print(betweenness_from_sled)\n",
        "\n",
        "  Pos1 = Pos1+1\n",
        "\n",
        "  while Pos1 < 2:\n",
        "    sled_betweenness_calc(Pos1, largest_degrees_0_2, betweenness_from_sled)\n",
        "    break\n",
        "\n",
        "  return betweenness_from_sled\n",
        "\n",
        "print(largest_degrees_2)\n",
        "len(largest_degrees_2)"
      ],
      "execution_count": null,
      "outputs": [
        {
          "name": "stdout",
          "output_type": "stream",
          "text": [
            "{0: {0: (23207, 2)}, 1: {2: (182950, 2)}, 2: {3: (126635, 2)}, 3: {4: (56342, 2)}, 4: {5: (10736, 2)}, 5: {6: (10665, 2)}, 6: {7: (5221, 2)}, 7: {8: (11692, 2)}, 8: {19: (69757, 2)}, 9: {20: (8837, 2)}, 10: {24: (4442, 2)}, 11: {27: (17424, 2)}, 12: {28: (15611, 2)}, 13: {30: (8488, 2)}, 14: {31: (7247, 2)}, 15: {32: (10052, 2)}, 16: {36: (40825, 2)}, 17: {37: (4989, 2)}, 18: {38: (26990, 2)}, 19: {42: (30643, 2)}, 20: {45: (47034, 2)}, 21: {47: (6808, 2)}, 22: {49: (13538, 2)}, 23: {53: (7095, 2)}, 24: {60: (27555, 2)}, 25: {62: (15998, 2)}, 26: {69: (6937, 2)}, 27: {87: (12101, 2)}, 28: {88: (16817, 2)}, 29: {101: (9888, 2)}, 30: {105: (4967, 2)}, 31: {109: (18892, 2)}, 32: {110: (7193, 2)}, 33: {111: (30782, 2)}, 34: {112: (4498, 2)}, 35: {129: (5711, 2)}, 36: {135: (31026, 2)}, 37: {136: (15002, 2)}, 38: {145: (4856, 2)}, 39: {152: (5262, 2)}, 40: {153: (11726, 2)}, 41: {155: (4591, 2)}, 42: {188: (12154, 2)}, 43: {192: (9197, 2)}, 44: {204: (6266, 2)}, 45: {208: (4581, 2)}, 46: {209: (7323, 2)}, 47: {213: (15767, 2)}, 48: {222: (9618, 2)}, 49: {223: (10161, 2)}, 50: {231: (57110, 2)}, 51: {232: (4165, 2)}, 52: {235: (6989, 2)}, 53: {237: (5548, 2)}, 54: {239: (6772, 2)}, 55: {247: (14635, 2)}, 56: {250: (4070, 2)}, 57: {253: (21495, 2)}, 58: {254: (10029, 2)}, 59: {257: (10834, 2)}, 60: {258: (6265, 2)}, 61: {272: (4797, 2)}, 62: {280: (5978, 2)}, 63: {288: (5948, 2)}, 64: {312: (6865, 2)}, 65: {345: (4398, 2)}, 66: {348: (5860, 2)}, 67: {351: (12936, 2)}, 68: {356: (9764, 2)}, 69: {364: (7649, 2)}, 70: {372: (5648, 2)}, 71: {373: (5526, 2)}, 72: {380: (10867, 2)}, 73: {393: (4136, 2)}, 74: {400: (7536, 2)}, 75: {401: (8064, 2)}, 76: {418: (8112, 2)}, 77: {419: (6217, 2)}, 78: {426: (7580, 2)}, 79: {432: (4348, 2)}, 80: {436: (5881, 2)}, 81: {450: (8625, 2)}, 82: {456: (6846, 2)}, 83: {462: (8175, 2)}, 84: {463: (4250, 2)}, 85: {484: (5981, 2)}, 86: {503: (5103, 2)}, 87: {517: (6873, 2)}, 88: {537: (7550, 2)}, 89: {550: (9371, 2)}, 90: {585: (4106, 2)}, 91: {633: (4074, 2)}, 92: {638: (4583, 2)}, 93: {763: (5608, 2)}, 94: {1200: (6391, 2)}, 95: {1854: (10193, 2)}, 96: {2768: (9489, 2)}, 97: {2786: (5106, 2)}, 98: {6274: (4766, 2)}, 99: {8317: (5252, 2)}}\n"
          ]
        },
        {
          "data": {
            "text/plain": [
              "100"
            ]
          },
          "execution_count": 90,
          "metadata": {},
          "output_type": "execute_result"
        }
      ]
    },
    {
      "cell_type": "code",
      "metadata": {
        "id": "_uAH-cPamhf8"
      },
      "source": [
        "sled_betweenness_calc(0, largest_degrees_2, betweenness_from_sled)"
      ],
      "execution_count": null,
      "outputs": []
    },
    {
      "cell_type": "code",
      "metadata": {
        "id": "z1MyTt_5o-x_"
      },
      "source": [
        "#find timestamps of all tweets of the top 3 super spreader users\n",
        "\n",
        "import matplotlib.dates as mdates\n",
        "\n",
        "top3_tweet_df = tweet_df.loc[tweet_df['user_id'] == \"2922345639\"]\n",
        "top3_tweet_df = top3_tweet_df[['user_id', 'timestamp']]\n",
        "\n",
        "top3_tweet_df['Date'] = top3_tweet_df['timestamp'].str[:10]\n",
        "top3_tweet_df.drop(columns='timestamp', inplace=True)\n",
        "top3_tweet_df['Counts'] = top3_tweet_df.groupby('Date')['user_id'].transform('count')\n",
        "top3_tweet_df.drop_duplicates(subset ='Date', keep='first', inplace = True)\n",
        "\n",
        "#top3_tweet_df.sort_values(by ='Counts', ascending=False)\n",
        "\n",
        "dates = top3_tweet_df['Date']\n",
        "\n",
        "x = [dt.datetime.strptime(d,'%Y-%m-%d').date() for d in dates]\n",
        "y = top3_tweet_df['Counts']\n",
        "\n",
        "plt.gca().xaxis.set_major_formatter(mdates.DateFormatter('%Y-%m-%d'))\n",
        "plt.gca().xaxis.set_major_locator(mdates.DayLocator(interval=5))\n",
        "plt.plot(x,y)\n",
        "plt.gcf().autofmt_xdate()"
      ],
      "execution_count": null,
      "outputs": []
    }
  ]
}